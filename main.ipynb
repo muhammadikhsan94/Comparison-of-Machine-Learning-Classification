{
  "nbformat": 4,
  "nbformat_minor": 0,
  "metadata": {
    "colab": {
      "name": "Challenge 2 (Kelompok 6).ipynb",
      "provenance": [],
      "collapsed_sections": [
        "THNLD-jUQuAR",
        "k4QPRrKhQwuF",
        "xd0dxSb0qf4f",
        "veVhJU8xpMKv",
        "Hwsh-CGc44VV",
        "dyIV6s0Z9aga",
        "yNl50iM048mM",
        "Ig0BJzgd5C4U",
        "rYNf3fQ85JAb",
        "bBsEkk-_5Xj7",
        "jE4UvvNunVMV",
        "pMmoKHCHoOYM",
        "-vWbdFbzrB2t",
        "lsEBLr_Tzzgt",
        "6k31J28zqJ3h",
        "AEdZbs-krUeP"
      ],
      "toc_visible": true
    },
    "kernelspec": {
      "name": "python3",
      "display_name": "Python 3"
    },
    "accelerator": "GPU"
  },
  "cells": [
    {
      "cell_type": "markdown",
      "metadata": {
        "id": "THNLD-jUQuAR"
      },
      "source": [
        "#Get Data"
      ]
    },
    {
      "cell_type": "code",
      "metadata": {
        "id": "tdYjzPzoPH9F",
        "outputId": "c525ed44-25ff-42c4-879f-a301a6a3bd8c",
        "colab": {
          "base_uri": "https://localhost:8080/",
          "height": 0
        }
      },
      "source": [
        "!git clone \"https://github.com/muhammadikhsan94/challenge-2-dataset\""
      ],
      "execution_count": 1,
      "outputs": [
        {
          "output_type": "stream",
          "text": [
            "fatal: destination path 'challenge-2-dataset' already exists and is not an empty directory.\n"
          ],
          "name": "stdout"
        }
      ]
    },
    {
      "cell_type": "markdown",
      "metadata": {
        "id": "k4QPRrKhQwuF"
      },
      "source": [
        "#Preprocessing"
      ]
    },
    {
      "cell_type": "code",
      "metadata": {
        "id": "6ii0ouT4PNDj",
        "outputId": "594b5dd7-dfe8-4ec4-8c4d-60c24fe9b60d",
        "colab": {
          "base_uri": "https://localhost:8080/",
          "height": 660
        }
      },
      "source": [
        "import pandas as pd\n",
        "\n",
        "df = pd.read_csv(\"/content/challenge-2-dataset/train.csv\")\n",
        "\n",
        "df.head(100)"
      ],
      "execution_count": 2,
      "outputs": [
        {
          "output_type": "execute_result",
          "data": {
            "text/html": [
              "<div>\n",
              "<style scoped>\n",
              "    .dataframe tbody tr th:only-of-type {\n",
              "        vertical-align: middle;\n",
              "    }\n",
              "\n",
              "    .dataframe tbody tr th {\n",
              "        vertical-align: top;\n",
              "    }\n",
              "\n",
              "    .dataframe thead th {\n",
              "        text-align: right;\n",
              "    }\n",
              "</style>\n",
              "<table border=\"1\" class=\"dataframe\">\n",
              "  <thead>\n",
              "    <tr style=\"text-align: right;\">\n",
              "      <th></th>\n",
              "      <th>id</th>\n",
              "      <th>Umur</th>\n",
              "      <th>Kelas Pekerja</th>\n",
              "      <th>Berat Akhir</th>\n",
              "      <th>Pendidikan</th>\n",
              "      <th>Jmlh Tahun Pendidikan</th>\n",
              "      <th>Status Perkawinan</th>\n",
              "      <th>Pekerjaan</th>\n",
              "      <th>Jenis Kelamin</th>\n",
              "      <th>Keuntungan Kapital</th>\n",
              "      <th>Kerugian Capital</th>\n",
              "      <th>Jam per Minggu</th>\n",
              "      <th>Gaji</th>\n",
              "    </tr>\n",
              "  </thead>\n",
              "  <tbody>\n",
              "    <tr>\n",
              "      <th>0</th>\n",
              "      <td>0</td>\n",
              "      <td>21</td>\n",
              "      <td>Wiraswasta</td>\n",
              "      <td>242912</td>\n",
              "      <td>SMA</td>\n",
              "      <td>9</td>\n",
              "      <td>Belum Pernah Menikah</td>\n",
              "      <td>Servis Lainnya</td>\n",
              "      <td>Perempuan</td>\n",
              "      <td>0.0</td>\n",
              "      <td>0.0</td>\n",
              "      <td>35.0</td>\n",
              "      <td>&lt;=7jt</td>\n",
              "    </tr>\n",
              "    <tr>\n",
              "      <th>1</th>\n",
              "      <td>1</td>\n",
              "      <td>49</td>\n",
              "      <td>Wiraswasta</td>\n",
              "      <td>140782</td>\n",
              "      <td>10th</td>\n",
              "      <td>6</td>\n",
              "      <td>Cerai</td>\n",
              "      <td>Ekesekutif Managerial</td>\n",
              "      <td>Perempuan</td>\n",
              "      <td>0.0</td>\n",
              "      <td>0.0</td>\n",
              "      <td>40.0</td>\n",
              "      <td>&lt;=7jt</td>\n",
              "    </tr>\n",
              "    <tr>\n",
              "      <th>2</th>\n",
              "      <td>2</td>\n",
              "      <td>44</td>\n",
              "      <td>Wiraswasta</td>\n",
              "      <td>120057</td>\n",
              "      <td>D3</td>\n",
              "      <td>12</td>\n",
              "      <td>Menikah</td>\n",
              "      <td>Ekesekutif Managerial</td>\n",
              "      <td>Laki2</td>\n",
              "      <td>61404000.0</td>\n",
              "      <td>0.0</td>\n",
              "      <td>45.0</td>\n",
              "      <td>&gt;7jt</td>\n",
              "    </tr>\n",
              "    <tr>\n",
              "      <th>3</th>\n",
              "      <td>3</td>\n",
              "      <td>24</td>\n",
              "      <td>Wiraswasta</td>\n",
              "      <td>194630</td>\n",
              "      <td>Sarjana</td>\n",
              "      <td>13</td>\n",
              "      <td>Belum Pernah Menikah</td>\n",
              "      <td>Spesialis</td>\n",
              "      <td>Laki2</td>\n",
              "      <td>0.0</td>\n",
              "      <td>0.0</td>\n",
              "      <td>35.0</td>\n",
              "      <td>&lt;=7jt</td>\n",
              "    </tr>\n",
              "    <tr>\n",
              "      <th>4</th>\n",
              "      <td>4</td>\n",
              "      <td>33</td>\n",
              "      <td>Wiraswasta</td>\n",
              "      <td>219619</td>\n",
              "      <td>Master</td>\n",
              "      <td>14</td>\n",
              "      <td>Menikah</td>\n",
              "      <td>Spesialis</td>\n",
              "      <td>Laki2</td>\n",
              "      <td>210336000.0</td>\n",
              "      <td>0.0</td>\n",
              "      <td>40.0</td>\n",
              "      <td>&gt;7jt</td>\n",
              "    </tr>\n",
              "    <tr>\n",
              "      <th>...</th>\n",
              "      <td>...</td>\n",
              "      <td>...</td>\n",
              "      <td>...</td>\n",
              "      <td>...</td>\n",
              "      <td>...</td>\n",
              "      <td>...</td>\n",
              "      <td>...</td>\n",
              "      <td>...</td>\n",
              "      <td>...</td>\n",
              "      <td>...</td>\n",
              "      <td>...</td>\n",
              "      <td>...</td>\n",
              "      <td>...</td>\n",
              "    </tr>\n",
              "    <tr>\n",
              "      <th>95</th>\n",
              "      <td>95</td>\n",
              "      <td>57</td>\n",
              "      <td>Wiraswasta</td>\n",
              "      <td>185072</td>\n",
              "      <td>Pendidikan Tinggi</td>\n",
              "      <td>10</td>\n",
              "      <td>Belum Pernah Menikah</td>\n",
              "      <td>Pemuka Agama</td>\n",
              "      <td>Perempuan</td>\n",
              "      <td>0.0</td>\n",
              "      <td>0.0</td>\n",
              "      <td>40.0</td>\n",
              "      <td>&lt;=7jt</td>\n",
              "    </tr>\n",
              "    <tr>\n",
              "      <th>96</th>\n",
              "      <td>96</td>\n",
              "      <td>49</td>\n",
              "      <td>Wiraswasta</td>\n",
              "      <td>252079</td>\n",
              "      <td>Pendidikan Tinggi</td>\n",
              "      <td>10</td>\n",
              "      <td>Menikah</td>\n",
              "      <td>Supir</td>\n",
              "      <td>Laki2</td>\n",
              "      <td>0.0</td>\n",
              "      <td>0.0</td>\n",
              "      <td>40.0</td>\n",
              "      <td>&gt;7jt</td>\n",
              "    </tr>\n",
              "    <tr>\n",
              "      <th>97</th>\n",
              "      <td>97</td>\n",
              "      <td>57</td>\n",
              "      <td>Pemerintah Lokal</td>\n",
              "      <td>174132</td>\n",
              "      <td>Master</td>\n",
              "      <td>14</td>\n",
              "      <td>Menikah</td>\n",
              "      <td>Spesialis</td>\n",
              "      <td>Perempuan</td>\n",
              "      <td>0.0</td>\n",
              "      <td>27678000.0</td>\n",
              "      <td>40.0</td>\n",
              "      <td>&gt;7jt</td>\n",
              "    </tr>\n",
              "    <tr>\n",
              "      <th>98</th>\n",
              "      <td>98</td>\n",
              "      <td>52</td>\n",
              "      <td>Pemerintah Lokal</td>\n",
              "      <td>140027</td>\n",
              "      <td>SMA</td>\n",
              "      <td>9</td>\n",
              "      <td>Janda</td>\n",
              "      <td>Servis Lainnya</td>\n",
              "      <td>Perempuan</td>\n",
              "      <td>0.0</td>\n",
              "      <td>0.0</td>\n",
              "      <td>20.0</td>\n",
              "      <td>&lt;=7jt</td>\n",
              "    </tr>\n",
              "    <tr>\n",
              "      <th>99</th>\n",
              "      <td>99</td>\n",
              "      <td>74</td>\n",
              "      <td>?</td>\n",
              "      <td>169303</td>\n",
              "      <td>SMA</td>\n",
              "      <td>9</td>\n",
              "      <td>Menikah</td>\n",
              "      <td>?</td>\n",
              "      <td>Laki2</td>\n",
              "      <td>94738000.0</td>\n",
              "      <td>0.0</td>\n",
              "      <td>6.0</td>\n",
              "      <td>&lt;=7jt</td>\n",
              "    </tr>\n",
              "  </tbody>\n",
              "</table>\n",
              "<p>100 rows × 13 columns</p>\n",
              "</div>"
            ],
            "text/plain": [
              "    id  Umur     Kelas Pekerja  ...  Kerugian Capital Jam per Minggu   Gaji\n",
              "0    0    21        Wiraswasta  ...               0.0           35.0  <=7jt\n",
              "1    1    49        Wiraswasta  ...               0.0           40.0  <=7jt\n",
              "2    2    44        Wiraswasta  ...               0.0           45.0   >7jt\n",
              "3    3    24        Wiraswasta  ...               0.0           35.0  <=7jt\n",
              "4    4    33        Wiraswasta  ...               0.0           40.0   >7jt\n",
              "..  ..   ...               ...  ...               ...            ...    ...\n",
              "95  95    57        Wiraswasta  ...               0.0           40.0  <=7jt\n",
              "96  96    49        Wiraswasta  ...               0.0           40.0   >7jt\n",
              "97  97    57  Pemerintah Lokal  ...        27678000.0           40.0   >7jt\n",
              "98  98    52  Pemerintah Lokal  ...               0.0           20.0  <=7jt\n",
              "99  99    74                 ?  ...               0.0            6.0  <=7jt\n",
              "\n",
              "[100 rows x 13 columns]"
            ]
          },
          "metadata": {
            "tags": []
          },
          "execution_count": 2
        }
      ]
    },
    {
      "cell_type": "code",
      "metadata": {
        "id": "bg2Y_Jfh5y76",
        "outputId": "81a5614d-290a-436e-dd84-195b7f7ca106",
        "colab": {
          "base_uri": "https://localhost:8080/",
          "height": 357
        }
      },
      "source": [
        "df.info()"
      ],
      "execution_count": 3,
      "outputs": [
        {
          "output_type": "stream",
          "text": [
            "<class 'pandas.core.frame.DataFrame'>\n",
            "RangeIndex: 35994 entries, 0 to 35993\n",
            "Data columns (total 13 columns):\n",
            " #   Column                 Non-Null Count  Dtype  \n",
            "---  ------                 --------------  -----  \n",
            " 0   id                     35994 non-null  int64  \n",
            " 1   Umur                   35994 non-null  int64  \n",
            " 2   Kelas Pekerja          35994 non-null  object \n",
            " 3   Berat Akhir            35994 non-null  int64  \n",
            " 4   Pendidikan             35994 non-null  object \n",
            " 5   Jmlh Tahun Pendidikan  35994 non-null  int64  \n",
            " 6   Status Perkawinan      35994 non-null  object \n",
            " 7   Pekerjaan              35994 non-null  object \n",
            " 8   Jenis Kelamin          35994 non-null  object \n",
            " 9   Keuntungan Kapital     35994 non-null  float64\n",
            " 10  Kerugian Capital       35994 non-null  float64\n",
            " 11  Jam per Minggu         35994 non-null  float64\n",
            " 12  Gaji                   35994 non-null  object \n",
            "dtypes: float64(3), int64(4), object(6)\n",
            "memory usage: 3.6+ MB\n"
          ],
          "name": "stdout"
        }
      ]
    },
    {
      "cell_type": "code",
      "metadata": {
        "id": "UVPSNT1w6lfC",
        "outputId": "29e02166-c38c-4ae7-9788-164f2715bde0",
        "colab": {
          "base_uri": "https://localhost:8080/",
          "height": 68
        }
      },
      "source": [
        "df['Gaji'].value_counts()"
      ],
      "execution_count": 4,
      "outputs": [
        {
          "output_type": "execute_result",
          "data": {
            "text/plain": [
              "<=7jt    27364\n",
              ">7jt      8630\n",
              "Name: Gaji, dtype: int64"
            ]
          },
          "metadata": {
            "tags": []
          },
          "execution_count": 4
        }
      ]
    },
    {
      "cell_type": "code",
      "metadata": {
        "id": "Dj8PMoAK7hlX"
      },
      "source": [
        "duplicateDFRow = df[df.duplicated(keep='last')]"
      ],
      "execution_count": 5,
      "outputs": []
    },
    {
      "cell_type": "code",
      "metadata": {
        "id": "11gHCfUq8ukp",
        "outputId": "4e88fb88-a04c-4c50-cc00-047084abf9a2",
        "colab": {
          "base_uri": "https://localhost:8080/",
          "height": 88
        }
      },
      "source": [
        "print(duplicateDFRow)"
      ],
      "execution_count": 6,
      "outputs": [
        {
          "output_type": "stream",
          "text": [
            "Empty DataFrame\n",
            "Columns: [id, Umur, Kelas Pekerja, Berat Akhir, Pendidikan, Jmlh Tahun Pendidikan, Status Perkawinan, Pekerjaan, Jenis Kelamin, Keuntungan Kapital, Kerugian Capital, Jam per Minggu, Gaji]\n",
            "Index: []\n"
          ],
          "name": "stdout"
        }
      ]
    },
    {
      "cell_type": "code",
      "metadata": {
        "id": "fwif9Pmd--PB",
        "outputId": "9b26984c-7818-4d87-a4e9-0f00326ccd94",
        "colab": {
          "base_uri": "https://localhost:8080/",
          "height": 359
        }
      },
      "source": [
        "df[['Pendidikan','Jmlh Tahun Pendidikan']].head(10).sort_values(by='Jmlh Tahun Pendidikan')"
      ],
      "execution_count": 7,
      "outputs": [
        {
          "output_type": "execute_result",
          "data": {
            "text/html": [
              "<div>\n",
              "<style scoped>\n",
              "    .dataframe tbody tr th:only-of-type {\n",
              "        vertical-align: middle;\n",
              "    }\n",
              "\n",
              "    .dataframe tbody tr th {\n",
              "        vertical-align: top;\n",
              "    }\n",
              "\n",
              "    .dataframe thead th {\n",
              "        text-align: right;\n",
              "    }\n",
              "</style>\n",
              "<table border=\"1\" class=\"dataframe\">\n",
              "  <thead>\n",
              "    <tr style=\"text-align: right;\">\n",
              "      <th></th>\n",
              "      <th>Pendidikan</th>\n",
              "      <th>Jmlh Tahun Pendidikan</th>\n",
              "    </tr>\n",
              "  </thead>\n",
              "  <tbody>\n",
              "    <tr>\n",
              "      <th>1</th>\n",
              "      <td>10th</td>\n",
              "      <td>6</td>\n",
              "    </tr>\n",
              "    <tr>\n",
              "      <th>0</th>\n",
              "      <td>SMA</td>\n",
              "      <td>9</td>\n",
              "    </tr>\n",
              "    <tr>\n",
              "      <th>7</th>\n",
              "      <td>SMA</td>\n",
              "      <td>9</td>\n",
              "    </tr>\n",
              "    <tr>\n",
              "      <th>9</th>\n",
              "      <td>SMA</td>\n",
              "      <td>9</td>\n",
              "    </tr>\n",
              "    <tr>\n",
              "      <th>6</th>\n",
              "      <td>Pendidikan Tinggi</td>\n",
              "      <td>10</td>\n",
              "    </tr>\n",
              "    <tr>\n",
              "      <th>8</th>\n",
              "      <td>Pendidikan Tinggi</td>\n",
              "      <td>10</td>\n",
              "    </tr>\n",
              "    <tr>\n",
              "      <th>2</th>\n",
              "      <td>D3</td>\n",
              "      <td>12</td>\n",
              "    </tr>\n",
              "    <tr>\n",
              "      <th>3</th>\n",
              "      <td>Sarjana</td>\n",
              "      <td>13</td>\n",
              "    </tr>\n",
              "    <tr>\n",
              "      <th>5</th>\n",
              "      <td>Sarjana</td>\n",
              "      <td>13</td>\n",
              "    </tr>\n",
              "    <tr>\n",
              "      <th>4</th>\n",
              "      <td>Master</td>\n",
              "      <td>14</td>\n",
              "    </tr>\n",
              "  </tbody>\n",
              "</table>\n",
              "</div>"
            ],
            "text/plain": [
              "          Pendidikan  Jmlh Tahun Pendidikan\n",
              "1               10th                      6\n",
              "0                SMA                      9\n",
              "7                SMA                      9\n",
              "9                SMA                      9\n",
              "6  Pendidikan Tinggi                     10\n",
              "8  Pendidikan Tinggi                     10\n",
              "2                 D3                     12\n",
              "3            Sarjana                     13\n",
              "5            Sarjana                     13\n",
              "4             Master                     14"
            ]
          },
          "metadata": {
            "tags": []
          },
          "execution_count": 7
        }
      ]
    },
    {
      "cell_type": "markdown",
      "metadata": {
        "id": "xd0dxSb0qf4f"
      },
      "source": [
        "##Visualisasi Data"
      ]
    },
    {
      "cell_type": "code",
      "metadata": {
        "id": "l23Y5qynmTy5",
        "outputId": "be6fc7e4-8787-4b5a-e4f1-5a40d206b053",
        "colab": {
          "base_uri": "https://localhost:8080/",
          "height": 85
        }
      },
      "source": [
        "df['Pekerjaan'].unique()"
      ],
      "execution_count": 8,
      "outputs": [
        {
          "output_type": "execute_result",
          "data": {
            "text/plain": [
              "array(['Servis Lainnya', 'Ekesekutif Managerial', 'Spesialis',\n",
              "       'Perbaikan Kerajinan', '?', 'Sales', 'Pembersih', 'Pemuka Agama',\n",
              "       'Petani', 'Tech-support', 'Mesin Inspeksi', 'Supir',\n",
              "       'Asisten Rumah Tangga', 'Penjaga', 'Tentara'], dtype=object)"
            ]
          },
          "metadata": {
            "tags": []
          },
          "execution_count": 8
        }
      ]
    },
    {
      "cell_type": "code",
      "metadata": {
        "id": "-aZfsIUlmc_3",
        "outputId": "f9d49ada-a170-407f-b706-e3fe09bf5f7b",
        "colab": {
          "base_uri": "https://localhost:8080/",
          "height": 295
        }
      },
      "source": [
        "pekerjaan = []\n",
        "value = []\n",
        "for i in df['Pekerjaan'].unique():\n",
        "    pekerjaan.append(i)\n",
        "    value.append(df['Pekerjaan'].where(df['Pekerjaan'] == i).count())\n",
        "\n",
        "import matplotlib.pyplot as plt\n",
        "import numpy as np\n",
        "\n",
        "y_pos = np.arange(len(pekerjaan))\n",
        "plt.barh(pekerjaan, value, align='center', height=0.8)\n",
        "plt.yticks(y_pos, pekerjaan)\n",
        "plt.xlabel('Jumlah')\n",
        "plt.title('Pekerjaan')\n",
        "\n",
        "plt.show()"
      ],
      "execution_count": 9,
      "outputs": [
        {
          "output_type": "display_data",
          "data": {
            "image/png": "[encoded data removed]",
            "text/plain": [
              "<Figure size 432x288 with 1 Axes>"
            ]
          },
          "metadata": {
            "tags": [],
            "needs_background": "light"
          }
        }
      ]
    },
    {
      "cell_type": "code",
      "metadata": {
        "id": "bH8ZgVYGqrhr",
        "outputId": "a09da823-8951-4ebe-ffd4-7c182f95139d",
        "colab": {
          "base_uri": "https://localhost:8080/",
          "height": 102
        }
      },
      "source": [
        "df['Umur'].sort_values().unique()"
      ],
      "execution_count": 10,
      "outputs": [
        {
          "output_type": "execute_result",
          "data": {
            "text/plain": [
              "array([17, 18, 19, 20, 21, 22, 23, 24, 25, 26, 27, 28, 29, 30, 31, 32, 33,\n",
              "       34, 35, 36, 37, 38, 39, 40, 41, 42, 43, 44, 45, 46, 47, 48, 49, 50,\n",
              "       51, 52, 53, 54, 55, 56, 57, 58, 59, 60, 61, 62, 63, 64, 65, 66, 67,\n",
              "       68, 69, 70, 71, 72, 73, 74, 75, 76, 77, 78, 79, 80, 81, 82, 83, 84,\n",
              "       85, 86, 87, 88, 90])"
            ]
          },
          "metadata": {
            "tags": []
          },
          "execution_count": 10
        }
      ]
    },
    {
      "cell_type": "code",
      "metadata": {
        "id": "iNQBEXvfq5CV",
        "outputId": "3aa2e6aa-cad9-4ca2-d68c-24cb91034aca",
        "colab": {
          "base_uri": "https://localhost:8080/",
          "height": 281
        }
      },
      "source": [
        "umur = ['17-20', '21-30', '31-40', '41-50', '51-60', '61-70', '71-80', '81-90']\n",
        "jmlh_umur = []\n",
        "\n",
        "jmlh_umur.append(df['Umur'].where(df['Umur'] <= 20).count())\n",
        "jmlh_umur.append(df['Umur'].where((df['Umur'] <= 30) & (df['Umur'] > 20)).count())\n",
        "jmlh_umur.append(df['Umur'].where((df['Umur'] <= 40) & (df['Umur'] > 30)).count())\n",
        "jmlh_umur.append(df['Umur'].where((df['Umur'] <= 50) & (df['Umur'] > 40)).count())\n",
        "jmlh_umur.append(df['Umur'].where((df['Umur'] <= 60) & (df['Umur'] > 50)).count())\n",
        "jmlh_umur.append(df['Umur'].where((df['Umur'] <= 70) & (df['Umur'] > 60)).count())\n",
        "jmlh_umur.append(df['Umur'].where((df['Umur'] <= 80) & (df['Umur'] > 70)).count())\n",
        "jmlh_umur.append(df['Umur'].where((df['Umur'] <= 90) & (df['Umur'] > 80)).count())\n",
        "\n",
        "y_pos = np.arange(len(umur))\n",
        "plt.bar(umur, jmlh_umur, align='center', alpha=0.8)\n",
        "plt.xticks(y_pos, umur)\n",
        "plt.ylabel('Jumlah')\n",
        "plt.title('Umur')\n",
        "\n",
        "plt.show()"
      ],
      "execution_count": 11,
      "outputs": [
        {
          "output_type": "display_data",
          "data": {
            "image/png": "[encoded data removed]",
            "text/plain": [
              "<Figure size 432x288 with 1 Axes>"
            ]
          },
          "metadata": {
            "tags": [],
            "needs_background": "light"
          }
        }
      ]
    },
    {
      "cell_type": "code",
      "metadata": {
        "id": "JbYIO_srwj6_",
        "outputId": "0fdc754b-04a1-48f0-eb5b-88fcad909ef9",
        "colab": {
          "base_uri": "https://localhost:8080/",
          "height": 34
        }
      },
      "source": [
        "df['Jenis Kelamin'].unique()"
      ],
      "execution_count": 12,
      "outputs": [
        {
          "output_type": "execute_result",
          "data": {
            "text/plain": [
              "array(['Perempuan', 'Laki2'], dtype=object)"
            ]
          },
          "metadata": {
            "tags": []
          },
          "execution_count": 12
        }
      ]
    },
    {
      "cell_type": "code",
      "metadata": {
        "id": "SyIYNCQEwp5b",
        "outputId": "6e47c292-d1c7-4f5a-fe75-66a87e1bda6d",
        "colab": {
          "base_uri": "https://localhost:8080/",
          "height": 264
        }
      },
      "source": [
        "jk = ['Perempuan', 'Laki2']\n",
        "jmlh_jk = []\n",
        "\n",
        "jmlh_jk.append(df['Jenis Kelamin'].where(df['Jenis Kelamin'] == jk[0]).count())\n",
        "jmlh_jk.append(df['Jenis Kelamin'].where(df['Jenis Kelamin'] == jk[1]).count())\n",
        "\n",
        "plt.pie(jmlh_jk, labels=jk, autopct='%1.1f%%')\n",
        "plt.axis('equal')\n",
        "plt.title('Jenis Kelamin')\n",
        "plt.show()"
      ],
      "execution_count": 13,
      "outputs": [
        {
          "output_type": "display_data",
          "data": {
            "image/png": "[encoded data removed]",
            "text/plain": [
              "<Figure size 432x288 with 1 Axes>"
            ]
          },
          "metadata": {
            "tags": []
          }
        }
      ]
    },
    {
      "cell_type": "code",
      "metadata": {
        "id": "C1q2m831zU4f",
        "outputId": "6b13b83b-a772-4dea-da7e-1471560f963a",
        "colab": {
          "base_uri": "https://localhost:8080/",
          "height": 51
        }
      },
      "source": [
        "df['Status Perkawinan'].unique()"
      ],
      "execution_count": 14,
      "outputs": [
        {
          "output_type": "execute_result",
          "data": {
            "text/plain": [
              "array(['Belum Pernah Menikah', 'Cerai', 'Menikah', 'Janda', 'Berpisah',\n",
              "       'Menikah LDR'], dtype=object)"
            ]
          },
          "metadata": {
            "tags": []
          },
          "execution_count": 14
        }
      ]
    },
    {
      "cell_type": "code",
      "metadata": {
        "id": "ykK1f66ezUNY",
        "outputId": "fe15e20f-5a3c-4e68-8f75-ca4bc1ecfde0",
        "colab": {
          "base_uri": "https://localhost:8080/",
          "height": 295
        }
      },
      "source": [
        "data_nikah = []\n",
        "jmlh_nikah = []\n",
        "for i in df['Status Perkawinan'].unique():\n",
        "    data_nikah.append(i)\n",
        "    jmlh_nikah.append(df['Status Perkawinan'].where(df['Status Perkawinan'] == i).count())\n",
        "\n",
        "y_pos = np.arange(len(data_nikah))\n",
        "plt.barh(data_nikah, jmlh_nikah, align='center', height=0.8)\n",
        "plt.yticks(y_pos, data_nikah)\n",
        "plt.xlabel('Jumlah')\n",
        "plt.title('Status Perkawinan')\n",
        "\n",
        "plt.show()"
      ],
      "execution_count": 15,
      "outputs": [
        {
          "output_type": "display_data",
          "data": {
            "image/png": "[encoded data removed]",
            "text/plain": [
              "<Figure size 432x288 with 1 Axes>"
            ]
          },
          "metadata": {
            "tags": [],
            "needs_background": "light"
          }
        }
      ]
    },
    {
      "cell_type": "code",
      "metadata": {
        "id": "xd0eoAe3nhYm",
        "outputId": "26f8c372-c725-49e1-d183-ca84aebe900e",
        "colab": {
          "base_uri": "https://localhost:8080/",
          "height": 68
        }
      },
      "source": [
        "df['Pendidikan'].unique()"
      ],
      "execution_count": 16,
      "outputs": [
        {
          "output_type": "execute_result",
          "data": {
            "text/plain": [
              "array(['SMA', '10th', 'D3', 'Sarjana', 'Master', 'Pendidikan Tinggi',\n",
              "       '1st-4th', 'Sekolah Professional', '7th-8th', 'Doktor', '5th-6th',\n",
              "       '11th', '9th', 'D4', '12th', 'SD'], dtype=object)"
            ]
          },
          "metadata": {
            "tags": []
          },
          "execution_count": 16
        }
      ]
    },
    {
      "cell_type": "code",
      "metadata": {
        "id": "BAuCgL6Qno4L",
        "outputId": "d9eeac61-6564-4c2c-b61f-379f1874491f",
        "colab": {
          "base_uri": "https://localhost:8080/",
          "height": 295
        }
      },
      "source": [
        "pendidikan = []\n",
        "jmlh_pendidikan = []\n",
        "for i in df['Pendidikan'].unique():\n",
        "    pendidikan.append(i)\n",
        "    jmlh_pendidikan.append(df['Pendidikan'].where(df['Pendidikan'] == i).count())\n",
        "\n",
        "y_pos = np.arange(len(pendidikan))\n",
        "plt.barh(pendidikan, jmlh_pendidikan, align='center', height=0.8)\n",
        "plt.yticks(y_pos, pendidikan)\n",
        "plt.xlabel('Jumlah')\n",
        "plt.title('Pendidikan')\n",
        "\n",
        "plt.show()"
      ],
      "execution_count": 18,
      "outputs": [
        {
          "output_type": "display_data",
          "data": {
            "image/png": "[encoded data removed]",
            "text/plain": [
              "<Figure size 432x288 with 1 Axes>"
            ]
          },
          "metadata": {
            "tags": [],
            "needs_background": "light"
          }
        }
      ]
    },
    {
      "cell_type": "markdown",
      "metadata": {
        "id": "veVhJU8xpMKv"
      },
      "source": [
        "##Drop Column and Delete Missing Value"
      ]
    },
    {
      "cell_type": "code",
      "metadata": {
        "id": "06_YYOKRonwg"
      },
      "source": [
        "#drop column id, Berat Akhir, Pendidikan\n",
        "df = df.drop(columns=['id', 'Berat Akhir', 'Pendidikan'])\n",
        "\n",
        "#seleksi nilai yang tidak terdapat missing value\n",
        "df = df[df.Pekerjaan != \"?\"]"
      ],
      "execution_count": 19,
      "outputs": []
    },
    {
      "cell_type": "code",
      "metadata": {
        "id": "I3wVgWyjornN",
        "outputId": "ed270173-b114-45c0-ac3a-fa569d7b0bf4",
        "colab": {
          "base_uri": "https://localhost:8080/",
          "height": 306
        }
      },
      "source": [
        "df.info()"
      ],
      "execution_count": 20,
      "outputs": [
        {
          "output_type": "stream",
          "text": [
            "<class 'pandas.core.frame.DataFrame'>\n",
            "Int64Index: 33925 entries, 0 to 35993\n",
            "Data columns (total 10 columns):\n",
            " #   Column                 Non-Null Count  Dtype  \n",
            "---  ------                 --------------  -----  \n",
            " 0   Umur                   33925 non-null  int64  \n",
            " 1   Kelas Pekerja          33925 non-null  object \n",
            " 2   Jmlh Tahun Pendidikan  33925 non-null  int64  \n",
            " 3   Status Perkawinan      33925 non-null  object \n",
            " 4   Pekerjaan              33925 non-null  object \n",
            " 5   Jenis Kelamin          33925 non-null  object \n",
            " 6   Keuntungan Kapital     33925 non-null  float64\n",
            " 7   Kerugian Capital       33925 non-null  float64\n",
            " 8   Jam per Minggu         33925 non-null  float64\n",
            " 9   Gaji                   33925 non-null  object \n",
            "dtypes: float64(3), int64(2), object(5)\n",
            "memory usage: 2.8+ MB\n"
          ],
          "name": "stdout"
        }
      ]
    },
    {
      "cell_type": "markdown",
      "metadata": {
        "id": "Hwsh-CGc44VV"
      },
      "source": [
        "##Label Encoder"
      ]
    },
    {
      "cell_type": "code",
      "metadata": {
        "id": "bCrsdU5yO64G"
      },
      "source": [
        "import numpy as np\n",
        "from sklearn.preprocessing import LabelEncoder\n",
        "\n",
        "encoder = LabelEncoder()\n",
        "df['Gaji'] = encoder.fit_transform(df['Gaji'])\n",
        "df['Kelas Pekerja'] = np.where((df['Kelas Pekerja'] == \"Tanpa di Bayar\") | (df['Kelas Pekerja'] == \"Tidak Pernah Bekerja\"), 0, 1)"
      ],
      "execution_count": 21,
      "outputs": []
    },
    {
      "cell_type": "code",
      "metadata": {
        "id": "nv02TcGycnSL",
        "outputId": "1d1fbab0-fe4d-4944-dc52-205e834c4853",
        "colab": {
          "base_uri": "https://localhost:8080/",
          "height": 473
        }
      },
      "source": [
        "df_encoded = pd.get_dummies(df, columns=['Status Perkawinan','Pekerjaan', 'Jenis Kelamin'])\n",
        "df_encoded"
      ],
      "execution_count": 23,
      "outputs": [
        {
          "output_type": "execute_result",
          "data": {
            "text/html": [
              "<div>\n",
              "<style scoped>\n",
              "    .dataframe tbody tr th:only-of-type {\n",
              "        vertical-align: middle;\n",
              "    }\n",
              "\n",
              "    .dataframe tbody tr th {\n",
              "        vertical-align: top;\n",
              "    }\n",
              "\n",
              "    .dataframe thead th {\n",
              "        text-align: right;\n",
              "    }\n",
              "</style>\n",
              "<table border=\"1\" class=\"dataframe\">\n",
              "  <thead>\n",
              "    <tr style=\"text-align: right;\">\n",
              "      <th></th>\n",
              "      <th>Umur</th>\n",
              "      <th>Kelas Pekerja</th>\n",
              "      <th>Jmlh Tahun Pendidikan</th>\n",
              "      <th>Keuntungan Kapital</th>\n",
              "      <th>Kerugian Capital</th>\n",
              "      <th>Jam per Minggu</th>\n",
              "      <th>Gaji</th>\n",
              "      <th>Status Perkawinan_Belum Pernah Menikah</th>\n",
              "      <th>Status Perkawinan_Berpisah</th>\n",
              "      <th>Status Perkawinan_Cerai</th>\n",
              "      <th>Status Perkawinan_Janda</th>\n",
              "      <th>Status Perkawinan_Menikah</th>\n",
              "      <th>Status Perkawinan_Menikah LDR</th>\n",
              "      <th>Pekerjaan_Asisten Rumah Tangga</th>\n",
              "      <th>Pekerjaan_Ekesekutif Managerial</th>\n",
              "      <th>Pekerjaan_Mesin Inspeksi</th>\n",
              "      <th>Pekerjaan_Pembersih</th>\n",
              "      <th>Pekerjaan_Pemuka Agama</th>\n",
              "      <th>Pekerjaan_Penjaga</th>\n",
              "      <th>Pekerjaan_Perbaikan Kerajinan</th>\n",
              "      <th>Pekerjaan_Petani</th>\n",
              "      <th>Pekerjaan_Sales</th>\n",
              "      <th>Pekerjaan_Servis Lainnya</th>\n",
              "      <th>Pekerjaan_Spesialis</th>\n",
              "      <th>Pekerjaan_Supir</th>\n",
              "      <th>Pekerjaan_Tech-support</th>\n",
              "      <th>Pekerjaan_Tentara</th>\n",
              "      <th>Jenis Kelamin_Laki2</th>\n",
              "      <th>Jenis Kelamin_Perempuan</th>\n",
              "    </tr>\n",
              "  </thead>\n",
              "  <tbody>\n",
              "    <tr>\n",
              "      <th>0</th>\n",
              "      <td>21</td>\n",
              "      <td>1</td>\n",
              "      <td>9</td>\n",
              "      <td>0.0</td>\n",
              "      <td>0.0</td>\n",
              "      <td>35.0</td>\n",
              "      <td>0</td>\n",
              "      <td>1</td>\n",
              "      <td>0</td>\n",
              "      <td>0</td>\n",
              "      <td>0</td>\n",
              "      <td>0</td>\n",
              "      <td>0</td>\n",
              "      <td>0</td>\n",
              "      <td>0</td>\n",
              "      <td>0</td>\n",
              "      <td>0</td>\n",
              "      <td>0</td>\n",
              "      <td>0</td>\n",
              "      <td>0</td>\n",
              "      <td>0</td>\n",
              "      <td>0</td>\n",
              "      <td>1</td>\n",
              "      <td>0</td>\n",
              "      <td>0</td>\n",
              "      <td>0</td>\n",
              "      <td>0</td>\n",
              "      <td>0</td>\n",
              "      <td>1</td>\n",
              "    </tr>\n",
              "    <tr>\n",
              "      <th>1</th>\n",
              "      <td>49</td>\n",
              "      <td>1</td>\n",
              "      <td>6</td>\n",
              "      <td>0.0</td>\n",
              "      <td>0.0</td>\n",
              "      <td>40.0</td>\n",
              "      <td>0</td>\n",
              "      <td>0</td>\n",
              "      <td>0</td>\n",
              "      <td>1</td>\n",
              "      <td>0</td>\n",
              "      <td>0</td>\n",
              "      <td>0</td>\n",
              "      <td>0</td>\n",
              "      <td>1</td>\n",
              "      <td>0</td>\n",
              "      <td>0</td>\n",
              "      <td>0</td>\n",
              "      <td>0</td>\n",
              "      <td>0</td>\n",
              "      <td>0</td>\n",
              "      <td>0</td>\n",
              "      <td>0</td>\n",
              "      <td>0</td>\n",
              "      <td>0</td>\n",
              "      <td>0</td>\n",
              "      <td>0</td>\n",
              "      <td>0</td>\n",
              "      <td>1</td>\n",
              "    </tr>\n",
              "    <tr>\n",
              "      <th>2</th>\n",
              "      <td>44</td>\n",
              "      <td>1</td>\n",
              "      <td>12</td>\n",
              "      <td>61404000.0</td>\n",
              "      <td>0.0</td>\n",
              "      <td>45.0</td>\n",
              "      <td>1</td>\n",
              "      <td>0</td>\n",
              "      <td>0</td>\n",
              "      <td>0</td>\n",
              "      <td>0</td>\n",
              "      <td>1</td>\n",
              "      <td>0</td>\n",
              "      <td>0</td>\n",
              "      <td>1</td>\n",
              "      <td>0</td>\n",
              "      <td>0</td>\n",
              "      <td>0</td>\n",
              "      <td>0</td>\n",
              "      <td>0</td>\n",
              "      <td>0</td>\n",
              "      <td>0</td>\n",
              "      <td>0</td>\n",
              "      <td>0</td>\n",
              "      <td>0</td>\n",
              "      <td>0</td>\n",
              "      <td>0</td>\n",
              "      <td>1</td>\n",
              "      <td>0</td>\n",
              "    </tr>\n",
              "    <tr>\n",
              "      <th>3</th>\n",
              "      <td>24</td>\n",
              "      <td>1</td>\n",
              "      <td>13</td>\n",
              "      <td>0.0</td>\n",
              "      <td>0.0</td>\n",
              "      <td>35.0</td>\n",
              "      <td>0</td>\n",
              "      <td>1</td>\n",
              "      <td>0</td>\n",
              "      <td>0</td>\n",
              "      <td>0</td>\n",
              "      <td>0</td>\n",
              "      <td>0</td>\n",
              "      <td>0</td>\n",
              "      <td>0</td>\n",
              "      <td>0</td>\n",
              "      <td>0</td>\n",
              "      <td>0</td>\n",
              "      <td>0</td>\n",
              "      <td>0</td>\n",
              "      <td>0</td>\n",
              "      <td>0</td>\n",
              "      <td>0</td>\n",
              "      <td>1</td>\n",
              "      <td>0</td>\n",
              "      <td>0</td>\n",
              "      <td>0</td>\n",
              "      <td>1</td>\n",
              "      <td>0</td>\n",
              "    </tr>\n",
              "    <tr>\n",
              "      <th>4</th>\n",
              "      <td>33</td>\n",
              "      <td>1</td>\n",
              "      <td>14</td>\n",
              "      <td>210336000.0</td>\n",
              "      <td>0.0</td>\n",
              "      <td>40.0</td>\n",
              "      <td>1</td>\n",
              "      <td>0</td>\n",
              "      <td>0</td>\n",
              "      <td>0</td>\n",
              "      <td>0</td>\n",
              "      <td>1</td>\n",
              "      <td>0</td>\n",
              "      <td>0</td>\n",
              "      <td>0</td>\n",
              "      <td>0</td>\n",
              "      <td>0</td>\n",
              "      <td>0</td>\n",
              "      <td>0</td>\n",
              "      <td>0</td>\n",
              "      <td>0</td>\n",
              "      <td>0</td>\n",
              "      <td>0</td>\n",
              "      <td>1</td>\n",
              "      <td>0</td>\n",
              "      <td>0</td>\n",
              "      <td>0</td>\n",
              "      <td>1</td>\n",
              "      <td>0</td>\n",
              "    </tr>\n",
              "    <tr>\n",
              "      <th>...</th>\n",
              "      <td>...</td>\n",
              "      <td>...</td>\n",
              "      <td>...</td>\n",
              "      <td>...</td>\n",
              "      <td>...</td>\n",
              "      <td>...</td>\n",
              "      <td>...</td>\n",
              "      <td>...</td>\n",
              "      <td>...</td>\n",
              "      <td>...</td>\n",
              "      <td>...</td>\n",
              "      <td>...</td>\n",
              "      <td>...</td>\n",
              "      <td>...</td>\n",
              "      <td>...</td>\n",
              "      <td>...</td>\n",
              "      <td>...</td>\n",
              "      <td>...</td>\n",
              "      <td>...</td>\n",
              "      <td>...</td>\n",
              "      <td>...</td>\n",
              "      <td>...</td>\n",
              "      <td>...</td>\n",
              "      <td>...</td>\n",
              "      <td>...</td>\n",
              "      <td>...</td>\n",
              "      <td>...</td>\n",
              "      <td>...</td>\n",
              "      <td>...</td>\n",
              "    </tr>\n",
              "    <tr>\n",
              "      <th>35989</th>\n",
              "      <td>47</td>\n",
              "      <td>1</td>\n",
              "      <td>9</td>\n",
              "      <td>0.0</td>\n",
              "      <td>0.0</td>\n",
              "      <td>40.0</td>\n",
              "      <td>0</td>\n",
              "      <td>0</td>\n",
              "      <td>0</td>\n",
              "      <td>0</td>\n",
              "      <td>0</td>\n",
              "      <td>1</td>\n",
              "      <td>0</td>\n",
              "      <td>0</td>\n",
              "      <td>0</td>\n",
              "      <td>0</td>\n",
              "      <td>0</td>\n",
              "      <td>0</td>\n",
              "      <td>0</td>\n",
              "      <td>1</td>\n",
              "      <td>0</td>\n",
              "      <td>0</td>\n",
              "      <td>0</td>\n",
              "      <td>0</td>\n",
              "      <td>0</td>\n",
              "      <td>0</td>\n",
              "      <td>0</td>\n",
              "      <td>1</td>\n",
              "      <td>0</td>\n",
              "    </tr>\n",
              "    <tr>\n",
              "      <th>35990</th>\n",
              "      <td>69</td>\n",
              "      <td>1</td>\n",
              "      <td>12</td>\n",
              "      <td>0.0</td>\n",
              "      <td>0.0</td>\n",
              "      <td>40.0</td>\n",
              "      <td>1</td>\n",
              "      <td>0</td>\n",
              "      <td>0</td>\n",
              "      <td>0</td>\n",
              "      <td>0</td>\n",
              "      <td>1</td>\n",
              "      <td>0</td>\n",
              "      <td>0</td>\n",
              "      <td>0</td>\n",
              "      <td>0</td>\n",
              "      <td>0</td>\n",
              "      <td>0</td>\n",
              "      <td>0</td>\n",
              "      <td>0</td>\n",
              "      <td>0</td>\n",
              "      <td>1</td>\n",
              "      <td>0</td>\n",
              "      <td>0</td>\n",
              "      <td>0</td>\n",
              "      <td>0</td>\n",
              "      <td>0</td>\n",
              "      <td>1</td>\n",
              "      <td>0</td>\n",
              "    </tr>\n",
              "    <tr>\n",
              "      <th>35991</th>\n",
              "      <td>24</td>\n",
              "      <td>1</td>\n",
              "      <td>13</td>\n",
              "      <td>0.0</td>\n",
              "      <td>0.0</td>\n",
              "      <td>20.0</td>\n",
              "      <td>1</td>\n",
              "      <td>0</td>\n",
              "      <td>0</td>\n",
              "      <td>0</td>\n",
              "      <td>0</td>\n",
              "      <td>1</td>\n",
              "      <td>0</td>\n",
              "      <td>0</td>\n",
              "      <td>0</td>\n",
              "      <td>0</td>\n",
              "      <td>0</td>\n",
              "      <td>0</td>\n",
              "      <td>0</td>\n",
              "      <td>0</td>\n",
              "      <td>0</td>\n",
              "      <td>0</td>\n",
              "      <td>0</td>\n",
              "      <td>1</td>\n",
              "      <td>0</td>\n",
              "      <td>0</td>\n",
              "      <td>0</td>\n",
              "      <td>0</td>\n",
              "      <td>1</td>\n",
              "    </tr>\n",
              "    <tr>\n",
              "      <th>35992</th>\n",
              "      <td>47</td>\n",
              "      <td>1</td>\n",
              "      <td>9</td>\n",
              "      <td>0.0</td>\n",
              "      <td>0.0</td>\n",
              "      <td>45.0</td>\n",
              "      <td>0</td>\n",
              "      <td>0</td>\n",
              "      <td>0</td>\n",
              "      <td>0</td>\n",
              "      <td>0</td>\n",
              "      <td>1</td>\n",
              "      <td>0</td>\n",
              "      <td>0</td>\n",
              "      <td>0</td>\n",
              "      <td>0</td>\n",
              "      <td>0</td>\n",
              "      <td>0</td>\n",
              "      <td>0</td>\n",
              "      <td>0</td>\n",
              "      <td>0</td>\n",
              "      <td>1</td>\n",
              "      <td>0</td>\n",
              "      <td>0</td>\n",
              "      <td>0</td>\n",
              "      <td>0</td>\n",
              "      <td>0</td>\n",
              "      <td>1</td>\n",
              "      <td>0</td>\n",
              "    </tr>\n",
              "    <tr>\n",
              "      <th>35993</th>\n",
              "      <td>45</td>\n",
              "      <td>1</td>\n",
              "      <td>13</td>\n",
              "      <td>0.0</td>\n",
              "      <td>0.0</td>\n",
              "      <td>60.0</td>\n",
              "      <td>1</td>\n",
              "      <td>0</td>\n",
              "      <td>0</td>\n",
              "      <td>0</td>\n",
              "      <td>0</td>\n",
              "      <td>1</td>\n",
              "      <td>0</td>\n",
              "      <td>0</td>\n",
              "      <td>1</td>\n",
              "      <td>0</td>\n",
              "      <td>0</td>\n",
              "      <td>0</td>\n",
              "      <td>0</td>\n",
              "      <td>0</td>\n",
              "      <td>0</td>\n",
              "      <td>0</td>\n",
              "      <td>0</td>\n",
              "      <td>0</td>\n",
              "      <td>0</td>\n",
              "      <td>0</td>\n",
              "      <td>0</td>\n",
              "      <td>1</td>\n",
              "      <td>0</td>\n",
              "    </tr>\n",
              "  </tbody>\n",
              "</table>\n",
              "<p>33925 rows × 29 columns</p>\n",
              "</div>"
            ],
            "text/plain": [
              "       Umur  Kelas Pekerja  ...  Jenis Kelamin_Laki2  Jenis Kelamin_Perempuan\n",
              "0        21              1  ...                    0                        1\n",
              "1        49              1  ...                    0                        1\n",
              "2        44              1  ...                    1                        0\n",
              "3        24              1  ...                    1                        0\n",
              "4        33              1  ...                    1                        0\n",
              "...     ...            ...  ...                  ...                      ...\n",
              "35989    47              1  ...                    1                        0\n",
              "35990    69              1  ...                    1                        0\n",
              "35991    24              1  ...                    0                        1\n",
              "35992    47              1  ...                    1                        0\n",
              "35993    45              1  ...                    1                        0\n",
              "\n",
              "[33925 rows x 29 columns]"
            ]
          },
          "metadata": {
            "tags": []
          },
          "execution_count": 23
        }
      ]
    },
    {
      "cell_type": "code",
      "metadata": {
        "id": "rWCaQ1UpLZSo",
        "outputId": "81a57e28-b207-4d37-ba7c-c83e9039cb90",
        "colab": {
          "base_uri": "https://localhost:8080/",
          "height": 238
        }
      },
      "source": [
        "df_encoded.columns"
      ],
      "execution_count": 24,
      "outputs": [
        {
          "output_type": "execute_result",
          "data": {
            "text/plain": [
              "Index(['Umur', 'Kelas Pekerja', 'Jmlh Tahun Pendidikan', 'Keuntungan Kapital',\n",
              "       'Kerugian Capital', 'Jam per Minggu', 'Gaji',\n",
              "       'Status Perkawinan_Belum Pernah Menikah', 'Status Perkawinan_Berpisah',\n",
              "       'Status Perkawinan_Cerai', 'Status Perkawinan_Janda',\n",
              "       'Status Perkawinan_Menikah', 'Status Perkawinan_Menikah LDR',\n",
              "       'Pekerjaan_Asisten Rumah Tangga', 'Pekerjaan_Ekesekutif Managerial',\n",
              "       'Pekerjaan_Mesin Inspeksi', 'Pekerjaan_Pembersih',\n",
              "       'Pekerjaan_Pemuka Agama', 'Pekerjaan_Penjaga',\n",
              "       'Pekerjaan_Perbaikan Kerajinan', 'Pekerjaan_Petani', 'Pekerjaan_Sales',\n",
              "       'Pekerjaan_Servis Lainnya', 'Pekerjaan_Spesialis', 'Pekerjaan_Supir',\n",
              "       'Pekerjaan_Tech-support', 'Pekerjaan_Tentara', 'Jenis Kelamin_Laki2',\n",
              "       'Jenis Kelamin_Perempuan'],\n",
              "      dtype='object')"
            ]
          },
          "metadata": {
            "tags": []
          },
          "execution_count": 24
        }
      ]
    },
    {
      "cell_type": "markdown",
      "metadata": {
        "id": "dyIV6s0Z9aga"
      },
      "source": [
        "##Correlation"
      ]
    },
    {
      "cell_type": "code",
      "metadata": {
        "id": "wfRlQNXS9cNQ",
        "outputId": "4c2a4b18-5540-47ea-ae1a-20c288793e56",
        "colab": {
          "base_uri": "https://localhost:8080/",
          "height": 1000
        }
      },
      "source": [
        "correlation_df = df_encoded.corr()\n",
        "correlation_df"
      ],
      "execution_count": 25,
      "outputs": [
        {
          "output_type": "execute_result",
          "data": {
            "text/html": [
              "<div>\n",
              "<style scoped>\n",
              "    .dataframe tbody tr th:only-of-type {\n",
              "        vertical-align: middle;\n",
              "    }\n",
              "\n",
              "    .dataframe tbody tr th {\n",
              "        vertical-align: top;\n",
              "    }\n",
              "\n",
              "    .dataframe thead th {\n",
              "        text-align: right;\n",
              "    }\n",
              "</style>\n",
              "<table border=\"1\" class=\"dataframe\">\n",
              "  <thead>\n",
              "    <tr style=\"text-align: right;\">\n",
              "      <th></th>\n",
              "      <th>Umur</th>\n",
              "      <th>Kelas Pekerja</th>\n",
              "      <th>Jmlh Tahun Pendidikan</th>\n",
              "      <th>Keuntungan Kapital</th>\n",
              "      <th>Kerugian Capital</th>\n",
              "      <th>Jam per Minggu</th>\n",
              "      <th>Gaji</th>\n",
              "      <th>Status Perkawinan_Belum Pernah Menikah</th>\n",
              "      <th>Status Perkawinan_Berpisah</th>\n",
              "      <th>Status Perkawinan_Cerai</th>\n",
              "      <th>Status Perkawinan_Janda</th>\n",
              "      <th>Status Perkawinan_Menikah</th>\n",
              "      <th>Status Perkawinan_Menikah LDR</th>\n",
              "      <th>Pekerjaan_Asisten Rumah Tangga</th>\n",
              "      <th>Pekerjaan_Ekesekutif Managerial</th>\n",
              "      <th>Pekerjaan_Mesin Inspeksi</th>\n",
              "      <th>Pekerjaan_Pembersih</th>\n",
              "      <th>Pekerjaan_Pemuka Agama</th>\n",
              "      <th>Pekerjaan_Penjaga</th>\n",
              "      <th>Pekerjaan_Perbaikan Kerajinan</th>\n",
              "      <th>Pekerjaan_Petani</th>\n",
              "      <th>Pekerjaan_Sales</th>\n",
              "      <th>Pekerjaan_Servis Lainnya</th>\n",
              "      <th>Pekerjaan_Spesialis</th>\n",
              "      <th>Pekerjaan_Supir</th>\n",
              "      <th>Pekerjaan_Tech-support</th>\n",
              "      <th>Pekerjaan_Tentara</th>\n",
              "      <th>Jenis Kelamin_Laki2</th>\n",
              "      <th>Jenis Kelamin_Perempuan</th>\n",
              "    </tr>\n",
              "  </thead>\n",
              "  <tbody>\n",
              "    <tr>\n",
              "      <th>Umur</th>\n",
              "      <td>1.000000</td>\n",
              "      <td>-0.015977</td>\n",
              "      <td>0.039558</td>\n",
              "      <td>0.081476</td>\n",
              "      <td>0.055280</td>\n",
              "      <td>0.101104</td>\n",
              "      <td>0.239058</td>\n",
              "      <td>-0.525992</td>\n",
              "      <td>0.017598</td>\n",
              "      <td>0.133544</td>\n",
              "      <td>0.250937</td>\n",
              "      <td>0.308645</td>\n",
              "      <td>0.013023</td>\n",
              "      <td>0.029396</td>\n",
              "      <td>0.110225</td>\n",
              "      <td>-0.013955</td>\n",
              "      <td>-0.094097</td>\n",
              "      <td>-0.039463</td>\n",
              "      <td>0.005009</td>\n",
              "      <td>0.012032</td>\n",
              "      <td>0.039078</td>\n",
              "      <td>-0.035951</td>\n",
              "      <td>-0.090497</td>\n",
              "      <td>0.059907</td>\n",
              "      <td>0.034976</td>\n",
              "      <td>-0.020630</td>\n",
              "      <td>-0.011236</td>\n",
              "      <td>0.082134</td>\n",
              "      <td>-0.082134</td>\n",
              "    </tr>\n",
              "    <tr>\n",
              "      <th>Kelas Pekerja</th>\n",
              "      <td>-0.015977</td>\n",
              "      <td>1.000000</td>\n",
              "      <td>0.012547</td>\n",
              "      <td>0.001834</td>\n",
              "      <td>-0.001962</td>\n",
              "      <td>0.016081</td>\n",
              "      <td>0.008853</td>\n",
              "      <td>-0.000494</td>\n",
              "      <td>0.003783</td>\n",
              "      <td>0.008396</td>\n",
              "      <td>-0.004960</td>\n",
              "      <td>-0.002771</td>\n",
              "      <td>-0.009737</td>\n",
              "      <td>0.001566</td>\n",
              "      <td>0.008205</td>\n",
              "      <td>-0.005664</td>\n",
              "      <td>-0.002149</td>\n",
              "      <td>-0.000691</td>\n",
              "      <td>0.003021</td>\n",
              "      <td>0.004101</td>\n",
              "      <td>-0.052200</td>\n",
              "      <td>0.007737</td>\n",
              "      <td>0.002719</td>\n",
              "      <td>0.008316</td>\n",
              "      <td>-0.001463</td>\n",
              "      <td>0.003744</td>\n",
              "      <td>0.000379</td>\n",
              "      <td>0.003433</td>\n",
              "      <td>-0.003433</td>\n",
              "    </tr>\n",
              "    <tr>\n",
              "      <th>Jmlh Tahun Pendidikan</th>\n",
              "      <td>0.039558</td>\n",
              "      <td>0.012547</td>\n",
              "      <td>1.000000</td>\n",
              "      <td>0.122734</td>\n",
              "      <td>0.081988</td>\n",
              "      <td>0.144228</td>\n",
              "      <td>0.332104</td>\n",
              "      <td>-0.029595</td>\n",
              "      <td>-0.049627</td>\n",
              "      <td>-0.002194</td>\n",
              "      <td>-0.062547</td>\n",
              "      <td>0.073658</td>\n",
              "      <td>-0.028042</td>\n",
              "      <td>-0.077161</td>\n",
              "      <td>0.201775</td>\n",
              "      <td>-0.170626</td>\n",
              "      <td>-0.133898</td>\n",
              "      <td>-0.000498</td>\n",
              "      <td>-0.001668</td>\n",
              "      <td>-0.157720</td>\n",
              "      <td>-0.112072</td>\n",
              "      <td>0.029788</td>\n",
              "      <td>-0.183184</td>\n",
              "      <td>0.424920</td>\n",
              "      <td>-0.122761</td>\n",
              "      <td>0.057258</td>\n",
              "      <td>0.004176</td>\n",
              "      <td>0.006639</td>\n",
              "      <td>-0.006639</td>\n",
              "    </tr>\n",
              "    <tr>\n",
              "      <th>Keuntungan Kapital</th>\n",
              "      <td>0.081476</td>\n",
              "      <td>0.001834</td>\n",
              "      <td>0.122734</td>\n",
              "      <td>1.000000</td>\n",
              "      <td>-0.032235</td>\n",
              "      <td>0.084042</td>\n",
              "      <td>0.222236</td>\n",
              "      <td>-0.065548</td>\n",
              "      <td>-0.012338</td>\n",
              "      <td>-0.011379</td>\n",
              "      <td>-0.010659</td>\n",
              "      <td>0.077568</td>\n",
              "      <td>-0.002129</td>\n",
              "      <td>-0.009134</td>\n",
              "      <td>0.058977</td>\n",
              "      <td>-0.027598</td>\n",
              "      <td>-0.022836</td>\n",
              "      <td>-0.030495</td>\n",
              "      <td>-0.009885</td>\n",
              "      <td>-0.020893</td>\n",
              "      <td>-0.010077</td>\n",
              "      <td>0.010527</td>\n",
              "      <td>-0.041723</td>\n",
              "      <td>0.082115</td>\n",
              "      <td>-0.019515</td>\n",
              "      <td>-0.009762</td>\n",
              "      <td>-0.002666</td>\n",
              "      <td>0.046314</td>\n",
              "      <td>-0.046314</td>\n",
              "    </tr>\n",
              "    <tr>\n",
              "      <th>Kerugian Capital</th>\n",
              "      <td>0.055280</td>\n",
              "      <td>-0.001962</td>\n",
              "      <td>0.081988</td>\n",
              "      <td>-0.032235</td>\n",
              "      <td>1.000000</td>\n",
              "      <td>0.061226</td>\n",
              "      <td>0.146220</td>\n",
              "      <td>-0.058354</td>\n",
              "      <td>-0.012403</td>\n",
              "      <td>-0.025245</td>\n",
              "      <td>-0.004980</td>\n",
              "      <td>0.079360</td>\n",
              "      <td>-0.005659</td>\n",
              "      <td>-0.012999</td>\n",
              "      <td>0.045352</td>\n",
              "      <td>-0.011314</td>\n",
              "      <td>-0.020281</td>\n",
              "      <td>-0.019596</td>\n",
              "      <td>-0.002425</td>\n",
              "      <td>-0.006038</td>\n",
              "      <td>-0.012704</td>\n",
              "      <td>0.009429</td>\n",
              "      <td>-0.040980</td>\n",
              "      <td>0.044137</td>\n",
              "      <td>-0.008821</td>\n",
              "      <td>0.000369</td>\n",
              "      <td>0.003717</td>\n",
              "      <td>0.050611</td>\n",
              "      <td>-0.050611</td>\n",
              "    </tr>\n",
              "    <tr>\n",
              "      <th>Jam per Minggu</th>\n",
              "      <td>0.101104</td>\n",
              "      <td>0.016081</td>\n",
              "      <td>0.144228</td>\n",
              "      <td>0.084042</td>\n",
              "      <td>0.061226</td>\n",
              "      <td>1.000000</td>\n",
              "      <td>0.223201</td>\n",
              "      <td>-0.212775</td>\n",
              "      <td>-0.012863</td>\n",
              "      <td>0.014235</td>\n",
              "      <td>-0.082839</td>\n",
              "      <td>0.224191</td>\n",
              "      <td>-0.012533</td>\n",
              "      <td>-0.051062</td>\n",
              "      <td>0.133904</td>\n",
              "      <td>-0.000946</td>\n",
              "      <td>-0.056424</td>\n",
              "      <td>-0.100933</td>\n",
              "      <td>0.020036</td>\n",
              "      <td>0.043189</td>\n",
              "      <td>0.086874</td>\n",
              "      <td>-0.007316</td>\n",
              "      <td>-0.177243</td>\n",
              "      <td>0.042921</td>\n",
              "      <td>0.073307</td>\n",
              "      <td>-0.017591</td>\n",
              "      <td>0.003476</td>\n",
              "      <td>0.227352</td>\n",
              "      <td>-0.227352</td>\n",
              "    </tr>\n",
              "    <tr>\n",
              "      <th>Gaji</th>\n",
              "      <td>0.239058</td>\n",
              "      <td>0.008853</td>\n",
              "      <td>0.332104</td>\n",
              "      <td>0.222236</td>\n",
              "      <td>0.146220</td>\n",
              "      <td>0.223201</td>\n",
              "      <td>1.000000</td>\n",
              "      <td>-0.318917</td>\n",
              "      <td>-0.071343</td>\n",
              "      <td>-0.133332</td>\n",
              "      <td>-0.062545</td>\n",
              "      <td>0.443958</td>\n",
              "      <td>-0.033264</td>\n",
              "      <td>-0.040057</td>\n",
              "      <td>0.206297</td>\n",
              "      <td>-0.072987</td>\n",
              "      <td>-0.093315</td>\n",
              "      <td>-0.089552</td>\n",
              "      <td>0.019613</td>\n",
              "      <td>-0.024584</td>\n",
              "      <td>-0.057004</td>\n",
              "      <td>0.018050</td>\n",
              "      <td>-0.167465</td>\n",
              "      <td>0.183454</td>\n",
              "      <td>-0.021877</td>\n",
              "      <td>0.020152</td>\n",
              "      <td>0.004795</td>\n",
              "      <td>0.211689</td>\n",
              "      <td>-0.211689</td>\n",
              "    </tr>\n",
              "    <tr>\n",
              "      <th>Status Perkawinan_Belum Pernah Menikah</th>\n",
              "      <td>-0.525992</td>\n",
              "      <td>-0.000494</td>\n",
              "      <td>-0.029595</td>\n",
              "      <td>-0.065548</td>\n",
              "      <td>-0.058354</td>\n",
              "      <td>-0.212775</td>\n",
              "      <td>-0.318917</td>\n",
              "      <td>1.000000</td>\n",
              "      <td>-0.124048</td>\n",
              "      <td>-0.275328</td>\n",
              "      <td>-0.116751</td>\n",
              "      <td>-0.646367</td>\n",
              "      <td>-0.080417</td>\n",
              "      <td>0.012538</td>\n",
              "      <td>-0.097324</td>\n",
              "      <td>-0.021620</td>\n",
              "      <td>0.075914</td>\n",
              "      <td>0.077819</td>\n",
              "      <td>-0.020673</td>\n",
              "      <td>-0.092883</td>\n",
              "      <td>-0.010025</td>\n",
              "      <td>0.026156</td>\n",
              "      <td>0.131159</td>\n",
              "      <td>-0.018012</td>\n",
              "      <td>-0.056945</td>\n",
              "      <td>0.011369</td>\n",
              "      <td>0.005094</td>\n",
              "      <td>-0.177107</td>\n",
              "      <td>0.177107</td>\n",
              "    </tr>\n",
              "    <tr>\n",
              "      <th>Status Perkawinan_Berpisah</th>\n",
              "      <td>0.017598</td>\n",
              "      <td>0.003783</td>\n",
              "      <td>-0.049627</td>\n",
              "      <td>-0.012338</td>\n",
              "      <td>-0.012403</td>\n",
              "      <td>-0.012863</td>\n",
              "      <td>-0.071343</td>\n",
              "      <td>-0.124048</td>\n",
              "      <td>1.000000</td>\n",
              "      <td>-0.071796</td>\n",
              "      <td>-0.030445</td>\n",
              "      <td>-0.168550</td>\n",
              "      <td>-0.020970</td>\n",
              "      <td>0.023173</td>\n",
              "      <td>-0.020692</td>\n",
              "      <td>0.015977</td>\n",
              "      <td>0.004670</td>\n",
              "      <td>0.010687</td>\n",
              "      <td>-0.005403</td>\n",
              "      <td>-0.010080</td>\n",
              "      <td>-0.019034</td>\n",
              "      <td>-0.010816</td>\n",
              "      <td>0.051396</td>\n",
              "      <td>-0.015204</td>\n",
              "      <td>-0.012692</td>\n",
              "      <td>0.000343</td>\n",
              "      <td>-0.003239</td>\n",
              "      <td>-0.106316</td>\n",
              "      <td>0.106316</td>\n",
              "    </tr>\n",
              "    <tr>\n",
              "      <th>Status Perkawinan_Cerai</th>\n",
              "      <td>0.133544</td>\n",
              "      <td>0.008396</td>\n",
              "      <td>-0.002194</td>\n",
              "      <td>-0.011379</td>\n",
              "      <td>-0.025245</td>\n",
              "      <td>0.014235</td>\n",
              "      <td>-0.133332</td>\n",
              "      <td>-0.275328</td>\n",
              "      <td>-0.071796</td>\n",
              "      <td>1.000000</td>\n",
              "      <td>-0.067573</td>\n",
              "      <td>-0.374102</td>\n",
              "      <td>-0.046543</td>\n",
              "      <td>0.013062</td>\n",
              "      <td>0.011147</td>\n",
              "      <td>0.002318</td>\n",
              "      <td>-0.027008</td>\n",
              "      <td>0.079485</td>\n",
              "      <td>-0.006259</td>\n",
              "      <td>-0.025850</td>\n",
              "      <td>-0.042449</td>\n",
              "      <td>-0.017397</td>\n",
              "      <td>0.012518</td>\n",
              "      <td>-0.010887</td>\n",
              "      <td>-0.020680</td>\n",
              "      <td>0.008820</td>\n",
              "      <td>-0.007189</td>\n",
              "      <td>-0.236945</td>\n",
              "      <td>0.236945</td>\n",
              "    </tr>\n",
              "    <tr>\n",
              "      <th>Status Perkawinan_Janda</th>\n",
              "      <td>0.250937</td>\n",
              "      <td>-0.004960</td>\n",
              "      <td>-0.062547</td>\n",
              "      <td>-0.010659</td>\n",
              "      <td>-0.004980</td>\n",
              "      <td>-0.082839</td>\n",
              "      <td>-0.062545</td>\n",
              "      <td>-0.116751</td>\n",
              "      <td>-0.030445</td>\n",
              "      <td>-0.067573</td>\n",
              "      <td>1.000000</td>\n",
              "      <td>-0.158635</td>\n",
              "      <td>-0.019736</td>\n",
              "      <td>0.052720</td>\n",
              "      <td>-0.002550</td>\n",
              "      <td>0.002393</td>\n",
              "      <td>-0.019703</td>\n",
              "      <td>0.038878</td>\n",
              "      <td>-0.016682</td>\n",
              "      <td>-0.039869</td>\n",
              "      <td>-0.005083</td>\n",
              "      <td>-0.005886</td>\n",
              "      <td>0.053004</td>\n",
              "      <td>-0.016644</td>\n",
              "      <td>-0.018263</td>\n",
              "      <td>-0.001065</td>\n",
              "      <td>-0.003049</td>\n",
              "      <td>-0.174269</td>\n",
              "      <td>0.174269</td>\n",
              "    </tr>\n",
              "    <tr>\n",
              "      <th>Status Perkawinan_Menikah</th>\n",
              "      <td>0.308645</td>\n",
              "      <td>-0.002771</td>\n",
              "      <td>0.073658</td>\n",
              "      <td>0.077568</td>\n",
              "      <td>0.079360</td>\n",
              "      <td>0.224191</td>\n",
              "      <td>0.443958</td>\n",
              "      <td>-0.646367</td>\n",
              "      <td>-0.168550</td>\n",
              "      <td>-0.374102</td>\n",
              "      <td>-0.158635</td>\n",
              "      <td>1.000000</td>\n",
              "      <td>-0.109267</td>\n",
              "      <td>-0.051418</td>\n",
              "      <td>0.094349</td>\n",
              "      <td>0.012327</td>\n",
              "      <td>-0.048271</td>\n",
              "      <td>-0.146325</td>\n",
              "      <td>0.033256</td>\n",
              "      <td>0.123680</td>\n",
              "      <td>0.042096</td>\n",
              "      <td>-0.005276</td>\n",
              "      <td>-0.171812</td>\n",
              "      <td>0.036655</td>\n",
              "      <td>0.078162</td>\n",
              "      <td>-0.013432</td>\n",
              "      <td>0.002811</td>\n",
              "      <td>0.434589</td>\n",
              "      <td>-0.434589</td>\n",
              "    </tr>\n",
              "    <tr>\n",
              "      <th>Status Perkawinan_Menikah LDR</th>\n",
              "      <td>0.013023</td>\n",
              "      <td>-0.009737</td>\n",
              "      <td>-0.028042</td>\n",
              "      <td>-0.002129</td>\n",
              "      <td>-0.005659</td>\n",
              "      <td>-0.012533</td>\n",
              "      <td>-0.033264</td>\n",
              "      <td>-0.080417</td>\n",
              "      <td>-0.020970</td>\n",
              "      <td>-0.046543</td>\n",
              "      <td>-0.019736</td>\n",
              "      <td>-0.109267</td>\n",
              "      <td>1.000000</td>\n",
              "      <td>0.022469</td>\n",
              "      <td>-0.012184</td>\n",
              "      <td>-0.000182</td>\n",
              "      <td>0.002887</td>\n",
              "      <td>0.008778</td>\n",
              "      <td>-0.009468</td>\n",
              "      <td>-0.009398</td>\n",
              "      <td>0.021303</td>\n",
              "      <td>-0.006515</td>\n",
              "      <td>0.021191</td>\n",
              "      <td>-0.006385</td>\n",
              "      <td>-0.000407</td>\n",
              "      <td>-0.013329</td>\n",
              "      <td>-0.002100</td>\n",
              "      <td>-0.045871</td>\n",
              "      <td>0.045871</td>\n",
              "    </tr>\n",
              "    <tr>\n",
              "      <th>Pekerjaan_Asisten Rumah Tangga</th>\n",
              "      <td>0.029396</td>\n",
              "      <td>0.001566</td>\n",
              "      <td>-0.077161</td>\n",
              "      <td>-0.009134</td>\n",
              "      <td>-0.012999</td>\n",
              "      <td>-0.051062</td>\n",
              "      <td>-0.040057</td>\n",
              "      <td>0.012538</td>\n",
              "      <td>0.023173</td>\n",
              "      <td>0.013062</td>\n",
              "      <td>0.052720</td>\n",
              "      <td>-0.051418</td>\n",
              "      <td>0.022469</td>\n",
              "      <td>1.000000</td>\n",
              "      <td>-0.029044</td>\n",
              "      <td>-0.019842</td>\n",
              "      <td>-0.016235</td>\n",
              "      <td>-0.027825</td>\n",
              "      <td>-0.010695</td>\n",
              "      <td>-0.029141</td>\n",
              "      <td>-0.013474</td>\n",
              "      <td>-0.027389</td>\n",
              "      <td>-0.025711</td>\n",
              "      <td>-0.029438</td>\n",
              "      <td>-0.017316</td>\n",
              "      <td>-0.013253</td>\n",
              "      <td>-0.001341</td>\n",
              "      <td>-0.097419</td>\n",
              "      <td>0.097419</td>\n",
              "    </tr>\n",
              "    <tr>\n",
              "      <th>Pekerjaan_Ekesekutif Managerial</th>\n",
              "      <td>0.110225</td>\n",
              "      <td>0.008205</td>\n",
              "      <td>0.201775</td>\n",
              "      <td>0.058977</td>\n",
              "      <td>0.045352</td>\n",
              "      <td>0.133904</td>\n",
              "      <td>0.206297</td>\n",
              "      <td>-0.097324</td>\n",
              "      <td>-0.020692</td>\n",
              "      <td>0.011147</td>\n",
              "      <td>-0.002550</td>\n",
              "      <td>0.094349</td>\n",
              "      <td>-0.012184</td>\n",
              "      <td>-0.029044</td>\n",
              "      <td>1.000000</td>\n",
              "      <td>-0.103973</td>\n",
              "      <td>-0.085070</td>\n",
              "      <td>-0.145802</td>\n",
              "      <td>-0.056044</td>\n",
              "      <td>-0.152696</td>\n",
              "      <td>-0.070605</td>\n",
              "      <td>-0.143515</td>\n",
              "      <td>-0.134726</td>\n",
              "      <td>-0.154255</td>\n",
              "      <td>-0.090734</td>\n",
              "      <td>-0.069444</td>\n",
              "      <td>-0.007026</td>\n",
              "      <td>0.028315</td>\n",
              "      <td>-0.028315</td>\n",
              "    </tr>\n",
              "    <tr>\n",
              "      <th>Pekerjaan_Mesin Inspeksi</th>\n",
              "      <td>-0.013955</td>\n",
              "      <td>-0.005664</td>\n",
              "      <td>-0.170626</td>\n",
              "      <td>-0.027598</td>\n",
              "      <td>-0.011314</td>\n",
              "      <td>-0.000946</td>\n",
              "      <td>-0.072987</td>\n",
              "      <td>-0.021620</td>\n",
              "      <td>0.015977</td>\n",
              "      <td>0.002318</td>\n",
              "      <td>0.002393</td>\n",
              "      <td>0.012327</td>\n",
              "      <td>-0.000182</td>\n",
              "      <td>-0.019842</td>\n",
              "      <td>-0.103973</td>\n",
              "      <td>1.000000</td>\n",
              "      <td>-0.058119</td>\n",
              "      <td>-0.099611</td>\n",
              "      <td>-0.038289</td>\n",
              "      <td>-0.104321</td>\n",
              "      <td>-0.048237</td>\n",
              "      <td>-0.098049</td>\n",
              "      <td>-0.092044</td>\n",
              "      <td>-0.105386</td>\n",
              "      <td>-0.061989</td>\n",
              "      <td>-0.047444</td>\n",
              "      <td>-0.004800</td>\n",
              "      <td>0.032447</td>\n",
              "      <td>-0.032447</td>\n",
              "    </tr>\n",
              "    <tr>\n",
              "      <th>Pekerjaan_Pembersih</th>\n",
              "      <td>-0.094097</td>\n",
              "      <td>-0.002149</td>\n",
              "      <td>-0.133898</td>\n",
              "      <td>-0.022836</td>\n",
              "      <td>-0.020281</td>\n",
              "      <td>-0.056424</td>\n",
              "      <td>-0.093315</td>\n",
              "      <td>0.075914</td>\n",
              "      <td>0.004670</td>\n",
              "      <td>-0.027008</td>\n",
              "      <td>-0.019703</td>\n",
              "      <td>-0.048271</td>\n",
              "      <td>0.002887</td>\n",
              "      <td>-0.016235</td>\n",
              "      <td>-0.085070</td>\n",
              "      <td>-0.058119</td>\n",
              "      <td>1.000000</td>\n",
              "      <td>-0.081501</td>\n",
              "      <td>-0.031328</td>\n",
              "      <td>-0.085354</td>\n",
              "      <td>-0.039467</td>\n",
              "      <td>-0.080223</td>\n",
              "      <td>-0.075309</td>\n",
              "      <td>-0.086226</td>\n",
              "      <td>-0.050719</td>\n",
              "      <td>-0.038818</td>\n",
              "      <td>-0.003927</td>\n",
              "      <td>0.092427</td>\n",
              "      <td>-0.092427</td>\n",
              "    </tr>\n",
              "    <tr>\n",
              "      <th>Pekerjaan_Pemuka Agama</th>\n",
              "      <td>-0.039463</td>\n",
              "      <td>-0.000691</td>\n",
              "      <td>-0.000498</td>\n",
              "      <td>-0.030495</td>\n",
              "      <td>-0.019596</td>\n",
              "      <td>-0.100933</td>\n",
              "      <td>-0.089552</td>\n",
              "      <td>0.077819</td>\n",
              "      <td>0.010687</td>\n",
              "      <td>0.079485</td>\n",
              "      <td>0.038878</td>\n",
              "      <td>-0.146325</td>\n",
              "      <td>0.008778</td>\n",
              "      <td>-0.027825</td>\n",
              "      <td>-0.145802</td>\n",
              "      <td>-0.099611</td>\n",
              "      <td>-0.081501</td>\n",
              "      <td>1.000000</td>\n",
              "      <td>-0.053692</td>\n",
              "      <td>-0.146289</td>\n",
              "      <td>-0.067643</td>\n",
              "      <td>-0.137494</td>\n",
              "      <td>-0.129073</td>\n",
              "      <td>-0.147783</td>\n",
              "      <td>-0.086927</td>\n",
              "      <td>-0.066531</td>\n",
              "      <td>-0.006731</td>\n",
              "      <td>-0.275380</td>\n",
              "      <td>0.275380</td>\n",
              "    </tr>\n",
              "    <tr>\n",
              "      <th>Pekerjaan_Penjaga</th>\n",
              "      <td>0.005009</td>\n",
              "      <td>0.003021</td>\n",
              "      <td>-0.001668</td>\n",
              "      <td>-0.009885</td>\n",
              "      <td>-0.002425</td>\n",
              "      <td>0.020036</td>\n",
              "      <td>0.019613</td>\n",
              "      <td>-0.020673</td>\n",
              "      <td>-0.005403</td>\n",
              "      <td>-0.006259</td>\n",
              "      <td>-0.016682</td>\n",
              "      <td>0.033256</td>\n",
              "      <td>-0.009468</td>\n",
              "      <td>-0.010695</td>\n",
              "      <td>-0.056044</td>\n",
              "      <td>-0.038289</td>\n",
              "      <td>-0.031328</td>\n",
              "      <td>-0.053692</td>\n",
              "      <td>1.000000</td>\n",
              "      <td>-0.056231</td>\n",
              "      <td>-0.026001</td>\n",
              "      <td>-0.052850</td>\n",
              "      <td>-0.049613</td>\n",
              "      <td>-0.056805</td>\n",
              "      <td>-0.033413</td>\n",
              "      <td>-0.025573</td>\n",
              "      <td>-0.002587</td>\n",
              "      <td>0.062668</td>\n",
              "      <td>-0.062668</td>\n",
              "    </tr>\n",
              "    <tr>\n",
              "      <th>Pekerjaan_Perbaikan Kerajinan</th>\n",
              "      <td>0.012032</td>\n",
              "      <td>0.004101</td>\n",
              "      <td>-0.157720</td>\n",
              "      <td>-0.020893</td>\n",
              "      <td>-0.006038</td>\n",
              "      <td>0.043189</td>\n",
              "      <td>-0.024584</td>\n",
              "      <td>-0.092883</td>\n",
              "      <td>-0.010080</td>\n",
              "      <td>-0.025850</td>\n",
              "      <td>-0.039869</td>\n",
              "      <td>0.123680</td>\n",
              "      <td>-0.009398</td>\n",
              "      <td>-0.029141</td>\n",
              "      <td>-0.152696</td>\n",
              "      <td>-0.104321</td>\n",
              "      <td>-0.085354</td>\n",
              "      <td>-0.146289</td>\n",
              "      <td>-0.056231</td>\n",
              "      <td>1.000000</td>\n",
              "      <td>-0.070841</td>\n",
              "      <td>-0.143994</td>\n",
              "      <td>-0.135176</td>\n",
              "      <td>-0.154770</td>\n",
              "      <td>-0.091037</td>\n",
              "      <td>-0.069676</td>\n",
              "      <td>-0.007049</td>\n",
              "      <td>0.226569</td>\n",
              "      <td>-0.226569</td>\n",
              "    </tr>\n",
              "    <tr>\n",
              "      <th>Pekerjaan_Petani</th>\n",
              "      <td>0.039078</td>\n",
              "      <td>-0.052200</td>\n",
              "      <td>-0.112072</td>\n",
              "      <td>-0.010077</td>\n",
              "      <td>-0.012704</td>\n",
              "      <td>0.086874</td>\n",
              "      <td>-0.057004</td>\n",
              "      <td>-0.010025</td>\n",
              "      <td>-0.019034</td>\n",
              "      <td>-0.042449</td>\n",
              "      <td>-0.005083</td>\n",
              "      <td>0.042096</td>\n",
              "      <td>0.021303</td>\n",
              "      <td>-0.013474</td>\n",
              "      <td>-0.070605</td>\n",
              "      <td>-0.048237</td>\n",
              "      <td>-0.039467</td>\n",
              "      <td>-0.067643</td>\n",
              "      <td>-0.026001</td>\n",
              "      <td>-0.070841</td>\n",
              "      <td>1.000000</td>\n",
              "      <td>-0.066581</td>\n",
              "      <td>-0.062504</td>\n",
              "      <td>-0.071564</td>\n",
              "      <td>-0.042094</td>\n",
              "      <td>-0.032218</td>\n",
              "      <td>-0.003260</td>\n",
              "      <td>0.100744</td>\n",
              "      <td>-0.100744</td>\n",
              "    </tr>\n",
              "    <tr>\n",
              "      <th>Pekerjaan_Sales</th>\n",
              "      <td>-0.035951</td>\n",
              "      <td>0.007737</td>\n",
              "      <td>0.029788</td>\n",
              "      <td>0.010527</td>\n",
              "      <td>0.009429</td>\n",
              "      <td>-0.007316</td>\n",
              "      <td>0.018050</td>\n",
              "      <td>0.026156</td>\n",
              "      <td>-0.010816</td>\n",
              "      <td>-0.017397</td>\n",
              "      <td>-0.005886</td>\n",
              "      <td>-0.005276</td>\n",
              "      <td>-0.006515</td>\n",
              "      <td>-0.027389</td>\n",
              "      <td>-0.143515</td>\n",
              "      <td>-0.098049</td>\n",
              "      <td>-0.080223</td>\n",
              "      <td>-0.137494</td>\n",
              "      <td>-0.052850</td>\n",
              "      <td>-0.143994</td>\n",
              "      <td>-0.066581</td>\n",
              "      <td>1.000000</td>\n",
              "      <td>-0.127048</td>\n",
              "      <td>-0.145465</td>\n",
              "      <td>-0.085563</td>\n",
              "      <td>-0.065487</td>\n",
              "      <td>-0.006625</td>\n",
              "      <td>-0.023383</td>\n",
              "      <td>0.023383</td>\n",
              "    </tr>\n",
              "    <tr>\n",
              "      <th>Pekerjaan_Servis Lainnya</th>\n",
              "      <td>-0.090497</td>\n",
              "      <td>0.002719</td>\n",
              "      <td>-0.183184</td>\n",
              "      <td>-0.041723</td>\n",
              "      <td>-0.040980</td>\n",
              "      <td>-0.177243</td>\n",
              "      <td>-0.167465</td>\n",
              "      <td>0.131159</td>\n",
              "      <td>0.051396</td>\n",
              "      <td>0.012518</td>\n",
              "      <td>0.053004</td>\n",
              "      <td>-0.171812</td>\n",
              "      <td>0.021191</td>\n",
              "      <td>-0.025711</td>\n",
              "      <td>-0.134726</td>\n",
              "      <td>-0.092044</td>\n",
              "      <td>-0.075309</td>\n",
              "      <td>-0.129073</td>\n",
              "      <td>-0.049613</td>\n",
              "      <td>-0.135176</td>\n",
              "      <td>-0.062504</td>\n",
              "      <td>-0.127048</td>\n",
              "      <td>1.000000</td>\n",
              "      <td>-0.136556</td>\n",
              "      <td>-0.080323</td>\n",
              "      <td>-0.061477</td>\n",
              "      <td>-0.006220</td>\n",
              "      <td>-0.161943</td>\n",
              "      <td>0.161943</td>\n",
              "    </tr>\n",
              "    <tr>\n",
              "      <th>Pekerjaan_Spesialis</th>\n",
              "      <td>0.059907</td>\n",
              "      <td>0.008316</td>\n",
              "      <td>0.424920</td>\n",
              "      <td>0.082115</td>\n",
              "      <td>0.044137</td>\n",
              "      <td>0.042921</td>\n",
              "      <td>0.183454</td>\n",
              "      <td>-0.018012</td>\n",
              "      <td>-0.015204</td>\n",
              "      <td>-0.010887</td>\n",
              "      <td>-0.016644</td>\n",
              "      <td>0.036655</td>\n",
              "      <td>-0.006385</td>\n",
              "      <td>-0.029438</td>\n",
              "      <td>-0.154255</td>\n",
              "      <td>-0.105386</td>\n",
              "      <td>-0.086226</td>\n",
              "      <td>-0.147783</td>\n",
              "      <td>-0.056805</td>\n",
              "      <td>-0.154770</td>\n",
              "      <td>-0.071564</td>\n",
              "      <td>-0.145465</td>\n",
              "      <td>-0.136556</td>\n",
              "      <td>1.000000</td>\n",
              "      <td>-0.091966</td>\n",
              "      <td>-0.070388</td>\n",
              "      <td>-0.007121</td>\n",
              "      <td>-0.032525</td>\n",
              "      <td>0.032525</td>\n",
              "    </tr>\n",
              "    <tr>\n",
              "      <th>Pekerjaan_Supir</th>\n",
              "      <td>0.034976</td>\n",
              "      <td>-0.001463</td>\n",
              "      <td>-0.122761</td>\n",
              "      <td>-0.019515</td>\n",
              "      <td>-0.008821</td>\n",
              "      <td>0.073307</td>\n",
              "      <td>-0.021877</td>\n",
              "      <td>-0.056945</td>\n",
              "      <td>-0.012692</td>\n",
              "      <td>-0.020680</td>\n",
              "      <td>-0.018263</td>\n",
              "      <td>0.078162</td>\n",
              "      <td>-0.000407</td>\n",
              "      <td>-0.017316</td>\n",
              "      <td>-0.090734</td>\n",
              "      <td>-0.061989</td>\n",
              "      <td>-0.050719</td>\n",
              "      <td>-0.086927</td>\n",
              "      <td>-0.033413</td>\n",
              "      <td>-0.091037</td>\n",
              "      <td>-0.042094</td>\n",
              "      <td>-0.085563</td>\n",
              "      <td>-0.080323</td>\n",
              "      <td>-0.091966</td>\n",
              "      <td>1.000000</td>\n",
              "      <td>-0.041403</td>\n",
              "      <td>-0.004189</td>\n",
              "      <td>0.134612</td>\n",
              "      <td>-0.134612</td>\n",
              "    </tr>\n",
              "    <tr>\n",
              "      <th>Pekerjaan_Tech-support</th>\n",
              "      <td>-0.020630</td>\n",
              "      <td>0.003744</td>\n",
              "      <td>0.057258</td>\n",
              "      <td>-0.009762</td>\n",
              "      <td>0.000369</td>\n",
              "      <td>-0.017591</td>\n",
              "      <td>0.020152</td>\n",
              "      <td>0.011369</td>\n",
              "      <td>0.000343</td>\n",
              "      <td>0.008820</td>\n",
              "      <td>-0.001065</td>\n",
              "      <td>-0.013432</td>\n",
              "      <td>-0.013329</td>\n",
              "      <td>-0.013253</td>\n",
              "      <td>-0.069444</td>\n",
              "      <td>-0.047444</td>\n",
              "      <td>-0.038818</td>\n",
              "      <td>-0.066531</td>\n",
              "      <td>-0.025573</td>\n",
              "      <td>-0.069676</td>\n",
              "      <td>-0.032218</td>\n",
              "      <td>-0.065487</td>\n",
              "      <td>-0.061477</td>\n",
              "      <td>-0.070388</td>\n",
              "      <td>-0.041403</td>\n",
              "      <td>1.000000</td>\n",
              "      <td>-0.003206</td>\n",
              "      <td>-0.023290</td>\n",
              "      <td>0.023290</td>\n",
              "    </tr>\n",
              "    <tr>\n",
              "      <th>Pekerjaan_Tentara</th>\n",
              "      <td>-0.011236</td>\n",
              "      <td>0.000379</td>\n",
              "      <td>0.004176</td>\n",
              "      <td>-0.002666</td>\n",
              "      <td>0.003717</td>\n",
              "      <td>0.003476</td>\n",
              "      <td>0.004795</td>\n",
              "      <td>0.005094</td>\n",
              "      <td>-0.003239</td>\n",
              "      <td>-0.007189</td>\n",
              "      <td>-0.003049</td>\n",
              "      <td>0.002811</td>\n",
              "      <td>-0.002100</td>\n",
              "      <td>-0.001341</td>\n",
              "      <td>-0.007026</td>\n",
              "      <td>-0.004800</td>\n",
              "      <td>-0.003927</td>\n",
              "      <td>-0.006731</td>\n",
              "      <td>-0.002587</td>\n",
              "      <td>-0.007049</td>\n",
              "      <td>-0.003260</td>\n",
              "      <td>-0.006625</td>\n",
              "      <td>-0.006220</td>\n",
              "      <td>-0.007121</td>\n",
              "      <td>-0.004189</td>\n",
              "      <td>-0.003206</td>\n",
              "      <td>1.000000</td>\n",
              "      <td>0.012458</td>\n",
              "      <td>-0.012458</td>\n",
              "    </tr>\n",
              "    <tr>\n",
              "      <th>Jenis Kelamin_Laki2</th>\n",
              "      <td>0.082134</td>\n",
              "      <td>0.003433</td>\n",
              "      <td>0.006639</td>\n",
              "      <td>0.046314</td>\n",
              "      <td>0.050611</td>\n",
              "      <td>0.227352</td>\n",
              "      <td>0.211689</td>\n",
              "      <td>-0.177107</td>\n",
              "      <td>-0.106316</td>\n",
              "      <td>-0.236945</td>\n",
              "      <td>-0.174269</td>\n",
              "      <td>0.434589</td>\n",
              "      <td>-0.045871</td>\n",
              "      <td>-0.097419</td>\n",
              "      <td>0.028315</td>\n",
              "      <td>0.032447</td>\n",
              "      <td>0.092427</td>\n",
              "      <td>-0.275380</td>\n",
              "      <td>0.062668</td>\n",
              "      <td>0.226569</td>\n",
              "      <td>0.100744</td>\n",
              "      <td>-0.023383</td>\n",
              "      <td>-0.161943</td>\n",
              "      <td>-0.032525</td>\n",
              "      <td>0.134612</td>\n",
              "      <td>-0.023290</td>\n",
              "      <td>0.012458</td>\n",
              "      <td>1.000000</td>\n",
              "      <td>-1.000000</td>\n",
              "    </tr>\n",
              "    <tr>\n",
              "      <th>Jenis Kelamin_Perempuan</th>\n",
              "      <td>-0.082134</td>\n",
              "      <td>-0.003433</td>\n",
              "      <td>-0.006639</td>\n",
              "      <td>-0.046314</td>\n",
              "      <td>-0.050611</td>\n",
              "      <td>-0.227352</td>\n",
              "      <td>-0.211689</td>\n",
              "      <td>0.177107</td>\n",
              "      <td>0.106316</td>\n",
              "      <td>0.236945</td>\n",
              "      <td>0.174269</td>\n",
              "      <td>-0.434589</td>\n",
              "      <td>0.045871</td>\n",
              "      <td>0.097419</td>\n",
              "      <td>-0.028315</td>\n",
              "      <td>-0.032447</td>\n",
              "      <td>-0.092427</td>\n",
              "      <td>0.275380</td>\n",
              "      <td>-0.062668</td>\n",
              "      <td>-0.226569</td>\n",
              "      <td>-0.100744</td>\n",
              "      <td>0.023383</td>\n",
              "      <td>0.161943</td>\n",
              "      <td>0.032525</td>\n",
              "      <td>-0.134612</td>\n",
              "      <td>0.023290</td>\n",
              "      <td>-0.012458</td>\n",
              "      <td>-1.000000</td>\n",
              "      <td>1.000000</td>\n",
              "    </tr>\n",
              "  </tbody>\n",
              "</table>\n",
              "</div>"
            ],
            "text/plain": [
              "                                            Umur  ...  Jenis Kelamin_Perempuan\n",
              "Umur                                    1.000000  ...                -0.082134\n",
              "Kelas Pekerja                          -0.015977  ...                -0.003433\n",
              "Jmlh Tahun Pendidikan                   0.039558  ...                -0.006639\n",
              "Keuntungan Kapital                      0.081476  ...                -0.046314\n",
              "Kerugian Capital                        0.055280  ...                -0.050611\n",
              "Jam per Minggu                          0.101104  ...                -0.227352\n",
              "Gaji                                    0.239058  ...                -0.211689\n",
              "Status Perkawinan_Belum Pernah Menikah -0.525992  ...                 0.177107\n",
              "Status Perkawinan_Berpisah              0.017598  ...                 0.106316\n",
              "Status Perkawinan_Cerai                 0.133544  ...                 0.236945\n",
              "Status Perkawinan_Janda                 0.250937  ...                 0.174269\n",
              "Status Perkawinan_Menikah               0.308645  ...                -0.434589\n",
              "Status Perkawinan_Menikah LDR           0.013023  ...                 0.045871\n",
              "Pekerjaan_Asisten Rumah Tangga          0.029396  ...                 0.097419\n",
              "Pekerjaan_Ekesekutif Managerial         0.110225  ...                -0.028315\n",
              "Pekerjaan_Mesin Inspeksi               -0.013955  ...                -0.032447\n",
              "Pekerjaan_Pembersih                    -0.094097  ...                -0.092427\n",
              "Pekerjaan_Pemuka Agama                 -0.039463  ...                 0.275380\n",
              "Pekerjaan_Penjaga                       0.005009  ...                -0.062668\n",
              "Pekerjaan_Perbaikan Kerajinan           0.012032  ...                -0.226569\n",
              "Pekerjaan_Petani                        0.039078  ...                -0.100744\n",
              "Pekerjaan_Sales                        -0.035951  ...                 0.023383\n",
              "Pekerjaan_Servis Lainnya               -0.090497  ...                 0.161943\n",
              "Pekerjaan_Spesialis                     0.059907  ...                 0.032525\n",
              "Pekerjaan_Supir                         0.034976  ...                -0.134612\n",
              "Pekerjaan_Tech-support                 -0.020630  ...                 0.023290\n",
              "Pekerjaan_Tentara                      -0.011236  ...                -0.012458\n",
              "Jenis Kelamin_Laki2                     0.082134  ...                -1.000000\n",
              "Jenis Kelamin_Perempuan                -0.082134  ...                 1.000000\n",
              "\n",
              "[29 rows x 29 columns]"
            ]
          },
          "metadata": {
            "tags": []
          },
          "execution_count": 25
        }
      ]
    },
    {
      "cell_type": "markdown",
      "metadata": {
        "id": "yNl50iM048mM"
      },
      "source": [
        "#Split Train & Test Data"
      ]
    },
    {
      "cell_type": "code",
      "metadata": {
        "id": "1APX7moW3yck"
      },
      "source": [
        "X = df_encoded.drop(columns=['Gaji']).values\n",
        "Y = df_encoded.iloc[:, 6].values"
      ],
      "execution_count": 26,
      "outputs": []
    },
    {
      "cell_type": "code",
      "metadata": {
        "id": "Vqt7LCd93qUA"
      },
      "source": [
        "from sklearn.model_selection import train_test_split\n",
        "\n",
        "X_train, X_test, y_train, y_test = train_test_split(X, Y, test_size=0.2, random_state=0)"
      ],
      "execution_count": 27,
      "outputs": []
    },
    {
      "cell_type": "markdown",
      "metadata": {
        "id": "Ig0BJzgd5C4U"
      },
      "source": [
        "#Feature Scaling"
      ]
    },
    {
      "cell_type": "code",
      "metadata": {
        "id": "HgpxxSma4HfE"
      },
      "source": [
        "from sklearn.preprocessing import StandardScaler\n",
        "\n",
        "sc = StandardScaler()\n",
        "X_train = sc.fit_transform(X_train)\n",
        "X_test = sc.transform(X_test)"
      ],
      "execution_count": 28,
      "outputs": []
    },
    {
      "cell_type": "code",
      "metadata": {
        "id": "TGCdyebSaA_X",
        "outputId": "49f63711-2537-41a2-9a42-0d01e44cc736",
        "colab": {
          "base_uri": "https://localhost:8080/",
          "height": 238
        }
      },
      "source": [
        "X_train"
      ],
      "execution_count": 29,
      "outputs": [
        {
          "output_type": "execute_result",
          "data": {
            "text/plain": [
              "array([[-0.12187087,  0.01919885,  0.7243306 , ..., -0.01717134,\n",
              "        -1.44789715,  1.44789715],\n",
              "       [-0.04591846,  0.01919885, -0.0530012 , ..., -0.01717134,\n",
              "         0.69065679, -0.69065679],\n",
              "       [-1.41306174,  0.01919885, -0.4416671 , ..., -0.01717134,\n",
              "         0.69065679, -0.69065679],\n",
              "       ...,\n",
              "       [-0.42568048,  0.01919885, -0.4416671 , ..., -0.01717134,\n",
              "         0.69065679, -0.69065679],\n",
              "       [ 1.16932001,  0.01919885, -0.4416671 , ..., -0.01717134,\n",
              "        -1.44789715,  1.44789715],\n",
              "       [ 0.18193875,  0.01919885,  0.3356647 , ..., -0.01717134,\n",
              "         0.69065679, -0.69065679]])"
            ]
          },
          "metadata": {
            "tags": []
          },
          "execution_count": 29
        }
      ]
    },
    {
      "cell_type": "markdown",
      "metadata": {
        "id": "rYNf3fQ85JAb"
      },
      "source": [
        "#Classification Models"
      ]
    },
    {
      "cell_type": "code",
      "metadata": {
        "id": "pYTl19fHuJbM"
      },
      "source": [
        "import seaborn\n",
        "import matplotlib.pyplot as plt\n",
        "from sklearn.metrics import confusion_matrix\n",
        "from sklearn.metrics import classification_report\n",
        "from sklearn import metrics\n",
        "\n",
        "from sklearn.ensemble import RandomForestClassifier\n",
        "from sklearn.tree import DecisionTreeClassifier\n",
        "from sklearn.linear_model import LogisticRegression\n",
        "from sklearn import svm\n",
        "from sklearn.neighbors import KNeighborsClassifier"
      ],
      "execution_count": 30,
      "outputs": []
    },
    {
      "cell_type": "markdown",
      "metadata": {
        "id": "bBsEkk-_5Xj7"
      },
      "source": [
        "##RandomForest"
      ]
    },
    {
      "cell_type": "code",
      "metadata": {
        "id": "jGHsMIsD4MRc"
      },
      "source": [
        "rf = RandomForestClassifier(n_estimators=20)\n",
        "rf.fit(X_train, y_train)\n",
        "y_pred_rf = rf.predict(X_test)"
      ],
      "execution_count": 43,
      "outputs": []
    },
    {
      "cell_type": "code",
      "metadata": {
        "id": "Xg18X6zM4bYc",
        "outputId": "d5a3a25f-5986-4743-8a69-8ce77b0ff227",
        "colab": {
          "base_uri": "https://localhost:8080/",
          "height": 68
        }
      },
      "source": [
        "print('Mean Absolute Error:', metrics.mean_absolute_error(y_test, y_pred_rf))\n",
        "print('Mean Squared Error:', metrics.mean_squared_error(y_test, y_pred_rf))\n",
        "print('Root Mean Squared Error:', np.sqrt(metrics.mean_squared_error(y_test, y_pred_rf)))"
      ],
      "execution_count": 44,
      "outputs": [
        {
          "output_type": "stream",
          "text": [
            "Mean Absolute Error: 0.15401621223286663\n",
            "Mean Squared Error: 0.15401621223286663\n",
            "Root Mean Squared Error: 0.3924489931607248\n"
          ],
          "name": "stdout"
        }
      ]
    },
    {
      "cell_type": "code",
      "metadata": {
        "id": "2zdh5bnVwvBY",
        "outputId": "5eb40f61-c60f-4d3f-a0c9-009ff9f59bc9",
        "colab": {
          "base_uri": "https://localhost:8080/",
          "height": 418
        }
      },
      "source": [
        "acc_rf = confusion_matrix(y_test, y_pred_rf.round())\n",
        "\n",
        "seaborn.heatmap(acc_rf/np.sum(acc_rf), annot=True, fmt='.2%', cmap='Blues')\n",
        "plt.show()\n",
        "\n",
        "print(classification_report(y_test, y_pred_rf.round()))"
      ],
      "execution_count": 45,
      "outputs": [
        {
          "output_type": "display_data",
          "data": {
            "image/png": "[encoded data removed]",
            "text/plain": [
              "<Figure size 432x288 with 2 Axes>"
            ]
          },
          "metadata": {
            "tags": [],
            "needs_background": "light"
          }
        },
        {
          "output_type": "stream",
          "text": [
            "              precision    recall  f1-score   support\n",
            "\n",
            "           0       0.89      0.91      0.90      5167\n",
            "           1       0.70      0.63      0.66      1618\n",
            "\n",
            "    accuracy                           0.85      6785\n",
            "   macro avg       0.79      0.77      0.78      6785\n",
            "weighted avg       0.84      0.85      0.84      6785\n",
            "\n"
          ],
          "name": "stdout"
        }
      ]
    },
    {
      "cell_type": "markdown",
      "metadata": {
        "id": "jE4UvvNunVMV"
      },
      "source": [
        "##Decission Tree"
      ]
    },
    {
      "cell_type": "code",
      "metadata": {
        "id": "FFRJpebvnegA"
      },
      "source": [
        "dtree = DecisionTreeClassifier()\n",
        "dtree = dtree.fit(X_train, y_train)\n",
        "y_pred_tree = dtree.predict(X_test)"
      ],
      "execution_count": 46,
      "outputs": []
    },
    {
      "cell_type": "code",
      "metadata": {
        "id": "JjGbl6RBnfkZ",
        "outputId": "e5388b8d-50b5-4687-ff59-e8822cb361af",
        "colab": {
          "base_uri": "https://localhost:8080/",
          "height": 68
        }
      },
      "source": [
        "print('Mean Absolute Error:', metrics.mean_absolute_error(y_test, y_pred_tree))\n",
        "print('Mean Squared Error:', metrics.mean_squared_error(y_test, y_pred_tree))\n",
        "print('Root Mean Squared Error:', np.sqrt(metrics.mean_squared_error(y_test, y_pred_tree)))"
      ],
      "execution_count": 47,
      "outputs": [
        {
          "output_type": "stream",
          "text": [
            "Mean Absolute Error: 0.1770081061164333\n",
            "Mean Squared Error: 0.1770081061164333\n",
            "Root Mean Squared Error: 0.4207233130175143\n"
          ],
          "name": "stdout"
        }
      ]
    },
    {
      "cell_type": "code",
      "metadata": {
        "id": "hUVh_BdCxpB7",
        "outputId": "bfffa3b3-caa8-4ef4-af8d-12fa0614f74b",
        "colab": {
          "base_uri": "https://localhost:8080/",
          "height": 418
        }
      },
      "source": [
        "acc_tree = confusion_matrix(y_test, y_pred_tree)\n",
        "\n",
        "seaborn.heatmap(acc_tree/np.sum(acc_tree), annot=True, fmt='.2%', cmap='Purples')\n",
        "plt.show()\n",
        "\n",
        "print(classification_report(y_test, y_pred_tree))"
      ],
      "execution_count": 48,
      "outputs": [
        {
          "output_type": "display_data",
          "data": {
            "image/png": "[encoded data removed]",
            "text/plain": [
              "<Figure size 432x288 with 2 Axes>"
            ]
          },
          "metadata": {
            "tags": [],
            "needs_background": "light"
          }
        },
        {
          "output_type": "stream",
          "text": [
            "              precision    recall  f1-score   support\n",
            "\n",
            "           0       0.88      0.89      0.88      5167\n",
            "           1       0.64      0.60      0.62      1618\n",
            "\n",
            "    accuracy                           0.82      6785\n",
            "   macro avg       0.76      0.75      0.75      6785\n",
            "weighted avg       0.82      0.82      0.82      6785\n",
            "\n"
          ],
          "name": "stdout"
        }
      ]
    },
    {
      "cell_type": "markdown",
      "metadata": {
        "id": "pMmoKHCHoOYM"
      },
      "source": [
        "##Logistic Regression"
      ]
    },
    {
      "cell_type": "code",
      "metadata": {
        "id": "l0whYFVCoNr6"
      },
      "source": [
        "logreg = LogisticRegression(solver='lbfgs')\n",
        "logreg = logreg.fit(X_train, y_train)\n",
        "\n",
        "y_pred_lg = logreg.predict(X_test)"
      ],
      "execution_count": 49,
      "outputs": []
    },
    {
      "cell_type": "code",
      "metadata": {
        "id": "rKOIIVTmoX3Q",
        "outputId": "e773ce83-27f1-49bb-e4cc-635402fe703b",
        "colab": {
          "base_uri": "https://localhost:8080/",
          "height": 68
        }
      },
      "source": [
        "print('Mean Absolute Error:', metrics.mean_absolute_error(y_test, y_pred_lg))\n",
        "print('Mean Squared Error:', metrics.mean_squared_error(y_test, y_pred_lg))\n",
        "print('Root Mean Squared Error:', np.sqrt(metrics.mean_squared_error(y_test, y_pred_lg)))"
      ],
      "execution_count": 50,
      "outputs": [
        {
          "output_type": "stream",
          "text": [
            "Mean Absolute Error: 0.14576271186440679\n",
            "Mean Squared Error: 0.14576271186440679\n",
            "Root Mean Squared Error: 0.3817888315082132\n"
          ],
          "name": "stdout"
        }
      ]
    },
    {
      "cell_type": "code",
      "metadata": {
        "id": "9Hgh-npIx_mo",
        "outputId": "a142c43e-ef80-4eaf-a472-363ac5e6bbb3",
        "colab": {
          "base_uri": "https://localhost:8080/",
          "height": 420
        }
      },
      "source": [
        "acc_lg = confusion_matrix(y_test, y_pred_lg)\n",
        "\n",
        "seaborn.heatmap(acc_lg/np.sum(acc_lg), annot=True, fmt='.2%', cmap='Reds')\n",
        "plt.show()\n",
        "\n",
        "print(classification_report(y_test, y_pred_lg))"
      ],
      "execution_count": 51,
      "outputs": [
        {
          "output_type": "display_data",
          "data": {
            "image/png": "[encoded data removed]",
            "text/plain": [
              "<Figure size 432x288 with 2 Axes>"
            ]
          },
          "metadata": {
            "tags": [],
            "needs_background": "light"
          }
        },
        {
          "output_type": "stream",
          "text": [
            "              precision    recall  f1-score   support\n",
            "\n",
            "           0       0.89      0.93      0.91      5167\n",
            "           1       0.73      0.62      0.67      1618\n",
            "\n",
            "    accuracy                           0.85      6785\n",
            "   macro avg       0.81      0.77      0.79      6785\n",
            "weighted avg       0.85      0.85      0.85      6785\n",
            "\n"
          ],
          "name": "stdout"
        }
      ]
    },
    {
      "cell_type": "markdown",
      "metadata": {
        "id": "-vWbdFbzrB2t"
      },
      "source": [
        "##Support Vector Machine"
      ]
    },
    {
      "cell_type": "code",
      "metadata": {
        "id": "rQVL4OIDrHMI"
      },
      "source": [
        "clf = svm.SVC(kernel='linear')\n",
        "clf = clf.fit(X_train, y_train)\n",
        "\n",
        "y_pred_clf = clf.predict(X_test)"
      ],
      "execution_count": 52,
      "outputs": []
    },
    {
      "cell_type": "code",
      "metadata": {
        "id": "ICZOZNxXrbLR",
        "outputId": "0a3a5dfe-2a4e-40cc-86db-187c3d514425",
        "colab": {
          "base_uri": "https://localhost:8080/",
          "height": 68
        }
      },
      "source": [
        "print('Mean Absolute Error:', metrics.mean_absolute_error(y_test, y_pred_clf))\n",
        "print('Mean Squared Error:', metrics.mean_squared_error(y_test, y_pred_clf))\n",
        "print('Root Mean Squared Error:', np.sqrt(metrics.mean_squared_error(y_test, y_pred_clf)))"
      ],
      "execution_count": 53,
      "outputs": [
        {
          "output_type": "stream",
          "text": [
            "Mean Absolute Error: 0.14738393515106854\n",
            "Mean Squared Error: 0.14738393515106854\n",
            "Root Mean Squared Error: 0.38390615409376877\n"
          ],
          "name": "stdout"
        }
      ]
    },
    {
      "cell_type": "code",
      "metadata": {
        "id": "tPCwSYcCyQy4",
        "outputId": "17d75aa9-2512-451b-b41f-ac6d8475dfd4",
        "colab": {
          "base_uri": "https://localhost:8080/",
          "height": 420
        }
      },
      "source": [
        "acc_clf = confusion_matrix(y_test, y_pred_clf)\n",
        "\n",
        "seaborn.heatmap(acc_clf/np.sum(acc_clf), annot=True, fmt='.2%', cmap='Greens')\n",
        "plt.show()\n",
        "\n",
        "print(classification_report(y_test, y_pred_clf))"
      ],
      "execution_count": 54,
      "outputs": [
        {
          "output_type": "display_data",
          "data": {
            "image/png": "[encoded data removed]",
            "text/plain": [
              "<Figure size 432x288 with 2 Axes>"
            ]
          },
          "metadata": {
            "tags": [],
            "needs_background": "light"
          }
        },
        {
          "output_type": "stream",
          "text": [
            "              precision    recall  f1-score   support\n",
            "\n",
            "           0       0.88      0.93      0.91      5167\n",
            "           1       0.73      0.61      0.66      1618\n",
            "\n",
            "    accuracy                           0.85      6785\n",
            "   macro avg       0.81      0.77      0.78      6785\n",
            "weighted avg       0.85      0.85      0.85      6785\n",
            "\n"
          ],
          "name": "stdout"
        }
      ]
    },
    {
      "cell_type": "markdown",
      "metadata": {
        "id": "lsEBLr_Tzzgt"
      },
      "source": [
        "##K-Neareast Neighbors"
      ]
    },
    {
      "cell_type": "code",
      "metadata": {
        "id": "sVzThHU_z4SZ"
      },
      "source": [
        "knn = KNeighborsClassifier(n_neighbors=3)\n",
        "knn.fit(X_train, y_train)\n",
        "\n",
        "y_pred_knn = knn.predict(X_test)"
      ],
      "execution_count": 55,
      "outputs": []
    },
    {
      "cell_type": "code",
      "metadata": {
        "id": "DjB7YlS60M_n",
        "outputId": "0762034c-896b-420f-df7c-5e5e6b0954cd",
        "colab": {
          "base_uri": "https://localhost:8080/",
          "height": 68
        }
      },
      "source": [
        "print('Mean Absolute Error:', metrics.mean_absolute_error(y_test, y_pred_knn))\n",
        "print('Mean Squared Error:', metrics.mean_squared_error(y_test, y_pred_knn))\n",
        "print('Root Mean Squared Error:', np.sqrt(metrics.mean_squared_error(y_test, y_pred_knn)))"
      ],
      "execution_count": 56,
      "outputs": [
        {
          "output_type": "stream",
          "text": [
            "Mean Absolute Error: 0.17022844509948415\n",
            "Mean Squared Error: 0.17022844509948415\n",
            "Root Mean Squared Error: 0.4125874999312075\n"
          ],
          "name": "stdout"
        }
      ]
    },
    {
      "cell_type": "code",
      "metadata": {
        "id": "UzwluKfuyk2O",
        "outputId": "b194d590-4724-4ba4-c365-04c358ac3b73",
        "colab": {
          "base_uri": "https://localhost:8080/",
          "height": 418
        }
      },
      "source": [
        "acc_knn = confusion_matrix(y_test, y_pred_knn)\n",
        "\n",
        "seaborn.heatmap(acc_knn/np.sum(acc_knn), annot=True, fmt='.2%', cmap='Oranges')\n",
        "plt.show()\n",
        "\n",
        "print(classification_report(y_test, y_pred_knn))"
      ],
      "execution_count": 57,
      "outputs": [
        {
          "output_type": "display_data",
          "data": {
            "image/png": "[encoded data removed]",
            "text/plain": [
              "<Figure size 432x288 with 2 Axes>"
            ]
          },
          "metadata": {
            "tags": [],
            "needs_background": "light"
          }
        },
        {
          "output_type": "stream",
          "text": [
            "              precision    recall  f1-score   support\n",
            "\n",
            "           0       0.88      0.90      0.89      5167\n",
            "           1       0.65      0.61      0.63      1618\n",
            "\n",
            "    accuracy                           0.83      6785\n",
            "   macro avg       0.77      0.75      0.76      6785\n",
            "weighted avg       0.83      0.83      0.83      6785\n",
            "\n"
          ],
          "name": "stdout"
        }
      ]
    },
    {
      "cell_type": "code",
      "metadata": {
        "id": "ocrYfRnYzm_8",
        "outputId": "da8c113c-2078-4430-a283-4488dc7699ff",
        "colab": {
          "base_uri": "https://localhost:8080/",
          "height": 469
        }
      },
      "source": [
        "knn = KNeighborsClassifier(n_neighbors=4)\n",
        "knn.fit(X_train, y_train)\n",
        "\n",
        "y_pred_knn = knn.predict(X_test)\n",
        "\n",
        "print('Mean Absolute Error:', metrics.mean_absolute_error(y_test, y_pred_knn))\n",
        "print('Mean Squared Error:', metrics.mean_squared_error(y_test, y_pred_knn))\n",
        "print('Root Mean Squared Error:', np.sqrt(metrics.mean_squared_error(y_test, y_pred_knn)))\n",
        "\n",
        "\n",
        "acc_knn = confusion_matrix(y_test, y_pred_knn)\n",
        "\n",
        "seaborn.heatmap(acc_knn/np.sum(acc_knn), annot=True, fmt='.2%', cmap='Oranges')\n",
        "plt.show()\n",
        "\n",
        "print(classification_report(y_test, y_pred_knn))"
      ],
      "execution_count": 58,
      "outputs": [
        {
          "output_type": "stream",
          "text": [
            "Mean Absolute Error: 0.16610169491525423\n",
            "Mean Squared Error: 0.16610169491525423\n",
            "Root Mean Squared Error: 0.4075557568177074\n"
          ],
          "name": "stdout"
        },
        {
          "output_type": "display_data",
          "data": {
            "image/png": "[encoded data removed]",
            "text/plain": [
              "<Figure size 432x288 with 2 Axes>"
            ]
          },
          "metadata": {
            "tags": [],
            "needs_background": "light"
          }
        },
        {
          "output_type": "stream",
          "text": [
            "              precision    recall  f1-score   support\n",
            "\n",
            "           0       0.86      0.94      0.90      5167\n",
            "           1       0.72      0.50      0.59      1618\n",
            "\n",
            "    accuracy                           0.83      6785\n",
            "   macro avg       0.79      0.72      0.74      6785\n",
            "weighted avg       0.82      0.83      0.82      6785\n",
            "\n"
          ],
          "name": "stdout"
        }
      ]
    },
    {
      "cell_type": "code",
      "metadata": {
        "id": "oOwZqO5Az6wz",
        "outputId": "0191bf30-b8c4-45a0-8728-cad099604955",
        "colab": {
          "base_uri": "https://localhost:8080/",
          "height": 469
        }
      },
      "source": [
        "knn = KNeighborsClassifier(n_neighbors=5)\n",
        "knn.fit(X_train, y_train)\n",
        "\n",
        "y_pred_knn = knn.predict(X_test)\n",
        "\n",
        "print('Mean Absolute Error:', metrics.mean_absolute_error(y_test, y_pred_knn))\n",
        "print('Mean Squared Error:', metrics.mean_squared_error(y_test, y_pred_knn))\n",
        "print('Root Mean Squared Error:', np.sqrt(metrics.mean_squared_error(y_test, y_pred_knn)))\n",
        "\n",
        "\n",
        "acc_knn = confusion_matrix(y_test, y_pred_knn)\n",
        "\n",
        "seaborn.heatmap(acc_knn/np.sum(acc_knn), annot=True, fmt='.2%', cmap='Oranges')\n",
        "plt.show()\n",
        "\n",
        "print(classification_report(y_test, y_pred_knn))"
      ],
      "execution_count": 59,
      "outputs": [
        {
          "output_type": "stream",
          "text": [
            "Mean Absolute Error: 0.16462785556374354\n",
            "Mean Squared Error: 0.16462785556374354\n",
            "Root Mean Squared Error: 0.4057435835151845\n"
          ],
          "name": "stdout"
        },
        {
          "output_type": "display_data",
          "data": {
            "image/png": "[encoded data removed]",
            "text/plain": [
              "<Figure size 432x288 with 2 Axes>"
            ]
          },
          "metadata": {
            "tags": [],
            "needs_background": "light"
          }
        },
        {
          "output_type": "stream",
          "text": [
            "              precision    recall  f1-score   support\n",
            "\n",
            "           0       0.88      0.91      0.89      5167\n",
            "           1       0.67      0.61      0.64      1618\n",
            "\n",
            "    accuracy                           0.84      6785\n",
            "   macro avg       0.78      0.76      0.77      6785\n",
            "weighted avg       0.83      0.84      0.83      6785\n",
            "\n"
          ],
          "name": "stdout"
        }
      ]
    },
    {
      "cell_type": "code",
      "metadata": {
        "id": "NZnLRQpU7VRB",
        "outputId": "b1bdb3f4-6789-4e91-8d5a-3b60013b1b06",
        "colab": {
          "base_uri": "https://localhost:8080/",
          "height": 469
        }
      },
      "source": [
        "knn = KNeighborsClassifier(n_neighbors=6)\n",
        "knn.fit(X_train, y_train)\n",
        "\n",
        "y_pred_knn = knn.predict(X_test)\n",
        "\n",
        "print('Mean Absolute Error:', metrics.mean_absolute_error(y_test, y_pred_knn))\n",
        "print('Mean Squared Error:', metrics.mean_squared_error(y_test, y_pred_knn))\n",
        "print('Root Mean Squared Error:', np.sqrt(metrics.mean_squared_error(y_test, y_pred_knn)))\n",
        "\n",
        "\n",
        "acc_knn = confusion_matrix(y_test, y_pred_knn)\n",
        "\n",
        "seaborn.heatmap(acc_knn/np.sum(acc_knn), annot=True, fmt='.2%', cmap='Oranges')\n",
        "plt.show()\n",
        "\n",
        "print(classification_report(y_test, y_pred_knn))"
      ],
      "execution_count": 60,
      "outputs": [
        {
          "output_type": "stream",
          "text": [
            "Mean Absolute Error: 0.16330140014738392\n",
            "Mean Squared Error: 0.16330140014738392\n",
            "Root Mean Squared Error: 0.404105679429755\n"
          ],
          "name": "stdout"
        },
        {
          "output_type": "display_data",
          "data": {
            "image/png": "[encoded data removed]",
            "text/plain": [
              "<Figure size 432x288 with 2 Axes>"
            ]
          },
          "metadata": {
            "tags": [],
            "needs_background": "light"
          }
        },
        {
          "output_type": "stream",
          "text": [
            "              precision    recall  f1-score   support\n",
            "\n",
            "           0       0.86      0.94      0.90      5167\n",
            "           1       0.72      0.52      0.60      1618\n",
            "\n",
            "    accuracy                           0.84      6785\n",
            "   macro avg       0.79      0.73      0.75      6785\n",
            "weighted avg       0.83      0.84      0.83      6785\n",
            "\n"
          ],
          "name": "stdout"
        }
      ]
    },
    {
      "cell_type": "markdown",
      "metadata": {
        "id": "RXhtMaxZqG7_"
      },
      "source": [
        "#Testing"
      ]
    },
    {
      "cell_type": "markdown",
      "metadata": {
        "id": "6k31J28zqJ3h"
      },
      "source": [
        "##Data Preparation"
      ]
    },
    {
      "cell_type": "code",
      "metadata": {
        "id": "plZIPkhYqGkB",
        "outputId": "50a68258-5d2c-4f38-cd66-a68720213f66",
        "colab": {
          "base_uri": "https://localhost:8080/",
          "height": 745
        }
      },
      "source": [
        "df_test = pd.read_csv('/content/challenge-2-dataset/test.csv')\n",
        "df_test"
      ],
      "execution_count": 61,
      "outputs": [
        {
          "output_type": "execute_result",
          "data": {
            "text/html": [
              "<div>\n",
              "<style scoped>\n",
              "    .dataframe tbody tr th:only-of-type {\n",
              "        vertical-align: middle;\n",
              "    }\n",
              "\n",
              "    .dataframe tbody tr th {\n",
              "        vertical-align: top;\n",
              "    }\n",
              "\n",
              "    .dataframe thead th {\n",
              "        text-align: right;\n",
              "    }\n",
              "</style>\n",
              "<table border=\"1\" class=\"dataframe\">\n",
              "  <thead>\n",
              "    <tr style=\"text-align: right;\">\n",
              "      <th></th>\n",
              "      <th>id</th>\n",
              "      <th>Umur</th>\n",
              "      <th>Kelas Pekerja</th>\n",
              "      <th>Berat Akhir</th>\n",
              "      <th>Pendidikan</th>\n",
              "      <th>Jmlh Tahun Pendidikan</th>\n",
              "      <th>Status Perkawinan</th>\n",
              "      <th>Pekerjaan</th>\n",
              "      <th>Jenis Kelamin</th>\n",
              "      <th>Keuntungan Kapital</th>\n",
              "      <th>Kerugian Capital</th>\n",
              "      <th>Jam per Minggu</th>\n",
              "    </tr>\n",
              "  </thead>\n",
              "  <tbody>\n",
              "    <tr>\n",
              "      <th>0</th>\n",
              "      <td>35994</td>\n",
              "      <td>30</td>\n",
              "      <td>Pemerintah Lokal</td>\n",
              "      <td>99761</td>\n",
              "      <td>D4</td>\n",
              "      <td>11</td>\n",
              "      <td>Cerai</td>\n",
              "      <td>Pemuka Agama</td>\n",
              "      <td>Perempuan</td>\n",
              "      <td>0.0</td>\n",
              "      <td>0.0</td>\n",
              "      <td>40.0</td>\n",
              "    </tr>\n",
              "    <tr>\n",
              "      <th>1</th>\n",
              "      <td>35995</td>\n",
              "      <td>28</td>\n",
              "      <td>Wiraswasta</td>\n",
              "      <td>202206</td>\n",
              "      <td>SMA</td>\n",
              "      <td>9</td>\n",
              "      <td>Menikah</td>\n",
              "      <td>Mesin Inspeksi</td>\n",
              "      <td>Laki2</td>\n",
              "      <td>0.0</td>\n",
              "      <td>0.0</td>\n",
              "      <td>50.0</td>\n",
              "    </tr>\n",
              "    <tr>\n",
              "      <th>2</th>\n",
              "      <td>35996</td>\n",
              "      <td>34</td>\n",
              "      <td>Pemerintah Provinsi</td>\n",
              "      <td>199934</td>\n",
              "      <td>Pendidikan Tinggi</td>\n",
              "      <td>10</td>\n",
              "      <td>Menikah</td>\n",
              "      <td>Pemuka Agama</td>\n",
              "      <td>Laki2</td>\n",
              "      <td>0.0</td>\n",
              "      <td>0.0</td>\n",
              "      <td>40.0</td>\n",
              "    </tr>\n",
              "    <tr>\n",
              "      <th>3</th>\n",
              "      <td>35997</td>\n",
              "      <td>51</td>\n",
              "      <td>Wiraswasta</td>\n",
              "      <td>373448</td>\n",
              "      <td>Pendidikan Tinggi</td>\n",
              "      <td>10</td>\n",
              "      <td>Menikah</td>\n",
              "      <td>Ekesekutif Managerial</td>\n",
              "      <td>Laki2</td>\n",
              "      <td>0.0</td>\n",
              "      <td>28028000.0</td>\n",
              "      <td>40.0</td>\n",
              "    </tr>\n",
              "    <tr>\n",
              "      <th>4</th>\n",
              "      <td>35998</td>\n",
              "      <td>20</td>\n",
              "      <td>?</td>\n",
              "      <td>144685</td>\n",
              "      <td>Pendidikan Tinggi</td>\n",
              "      <td>10</td>\n",
              "      <td>Belum Pernah Menikah</td>\n",
              "      <td>?</td>\n",
              "      <td>Perempuan</td>\n",
              "      <td>0.0</td>\n",
              "      <td>22428000.0</td>\n",
              "      <td>40.0</td>\n",
              "    </tr>\n",
              "    <tr>\n",
              "      <th>...</th>\n",
              "      <td>...</td>\n",
              "      <td>...</td>\n",
              "      <td>...</td>\n",
              "      <td>...</td>\n",
              "      <td>...</td>\n",
              "      <td>...</td>\n",
              "      <td>...</td>\n",
              "      <td>...</td>\n",
              "      <td>...</td>\n",
              "      <td>...</td>\n",
              "      <td>...</td>\n",
              "      <td>...</td>\n",
              "    </tr>\n",
              "    <tr>\n",
              "      <th>9594</th>\n",
              "      <td>45588</td>\n",
              "      <td>58</td>\n",
              "      <td>Pemerintah Negara</td>\n",
              "      <td>159021</td>\n",
              "      <td>9th</td>\n",
              "      <td>5</td>\n",
              "      <td>Menikah</td>\n",
              "      <td>Petani</td>\n",
              "      <td>Laki2</td>\n",
              "      <td>0.0</td>\n",
              "      <td>0.0</td>\n",
              "      <td>40.0</td>\n",
              "    </tr>\n",
              "    <tr>\n",
              "      <th>9595</th>\n",
              "      <td>45589</td>\n",
              "      <td>45</td>\n",
              "      <td>Pekerja Bebas Bukan Perusahan</td>\n",
              "      <td>144086</td>\n",
              "      <td>11th</td>\n",
              "      <td>7</td>\n",
              "      <td>Menikah</td>\n",
              "      <td>Perbaikan Kerajinan</td>\n",
              "      <td>Laki2</td>\n",
              "      <td>0.0</td>\n",
              "      <td>0.0</td>\n",
              "      <td>50.0</td>\n",
              "    </tr>\n",
              "    <tr>\n",
              "      <th>9596</th>\n",
              "      <td>45590</td>\n",
              "      <td>20</td>\n",
              "      <td>Wiraswasta</td>\n",
              "      <td>238685</td>\n",
              "      <td>Pendidikan Tinggi</td>\n",
              "      <td>10</td>\n",
              "      <td>Belum Pernah Menikah</td>\n",
              "      <td>Servis Lainnya</td>\n",
              "      <td>Perempuan</td>\n",
              "      <td>0.0</td>\n",
              "      <td>0.0</td>\n",
              "      <td>32.0</td>\n",
              "    </tr>\n",
              "    <tr>\n",
              "      <th>9597</th>\n",
              "      <td>45591</td>\n",
              "      <td>41</td>\n",
              "      <td>Pemerintah Lokal</td>\n",
              "      <td>249039</td>\n",
              "      <td>SMA</td>\n",
              "      <td>9</td>\n",
              "      <td>Berpisah</td>\n",
              "      <td>Pemuka Agama</td>\n",
              "      <td>Perempuan</td>\n",
              "      <td>0.0</td>\n",
              "      <td>0.0</td>\n",
              "      <td>40.0</td>\n",
              "    </tr>\n",
              "    <tr>\n",
              "      <th>9598</th>\n",
              "      <td>45592</td>\n",
              "      <td>34</td>\n",
              "      <td>Pekerja Bebas Bukan Perusahan</td>\n",
              "      <td>24961</td>\n",
              "      <td>SMA</td>\n",
              "      <td>9</td>\n",
              "      <td>Menikah</td>\n",
              "      <td>Petani</td>\n",
              "      <td>Laki2</td>\n",
              "      <td>0.0</td>\n",
              "      <td>0.0</td>\n",
              "      <td>80.0</td>\n",
              "    </tr>\n",
              "  </tbody>\n",
              "</table>\n",
              "<p>9599 rows × 12 columns</p>\n",
              "</div>"
            ],
            "text/plain": [
              "         id  Umur  ... Kerugian Capital  Jam per Minggu\n",
              "0     35994    30  ...              0.0            40.0\n",
              "1     35995    28  ...              0.0            50.0\n",
              "2     35996    34  ...              0.0            40.0\n",
              "3     35997    51  ...       28028000.0            40.0\n",
              "4     35998    20  ...       22428000.0            40.0\n",
              "...     ...   ...  ...              ...             ...\n",
              "9594  45588    58  ...              0.0            40.0\n",
              "9595  45589    45  ...              0.0            50.0\n",
              "9596  45590    20  ...              0.0            32.0\n",
              "9597  45591    41  ...              0.0            40.0\n",
              "9598  45592    34  ...              0.0            80.0\n",
              "\n",
              "[9599 rows x 12 columns]"
            ]
          },
          "metadata": {
            "tags": []
          },
          "execution_count": 61
        }
      ]
    },
    {
      "cell_type": "code",
      "metadata": {
        "id": "CKk2TmPDqSyk"
      },
      "source": [
        "#drop column id, Berat Akhir, Pendidikan\n",
        "df_test = df_test.drop(columns=['id', 'Berat Akhir', 'Pendidikan'])\n",
        "\n",
        "#seleksi nilai yang tidak terdapat missing value\n",
        "df_test = df_test[df_test.Pekerjaan != \"?\"]"
      ],
      "execution_count": 62,
      "outputs": []
    },
    {
      "cell_type": "code",
      "metadata": {
        "id": "dcirZUf0qoYe",
        "outputId": "4a11c9cc-4526-4e68-964d-80837cd0118e",
        "colab": {
          "base_uri": "https://localhost:8080/",
          "height": 289
        }
      },
      "source": [
        "df_test.info()"
      ],
      "execution_count": 63,
      "outputs": [
        {
          "output_type": "stream",
          "text": [
            "<class 'pandas.core.frame.DataFrame'>\n",
            "Int64Index: 9045 entries, 0 to 9598\n",
            "Data columns (total 9 columns):\n",
            " #   Column                 Non-Null Count  Dtype  \n",
            "---  ------                 --------------  -----  \n",
            " 0   Umur                   9045 non-null   int64  \n",
            " 1   Kelas Pekerja          9045 non-null   object \n",
            " 2   Jmlh Tahun Pendidikan  9045 non-null   int64  \n",
            " 3   Status Perkawinan      9045 non-null   object \n",
            " 4   Pekerjaan              9045 non-null   object \n",
            " 5   Jenis Kelamin          9045 non-null   object \n",
            " 6   Keuntungan Kapital     9045 non-null   float64\n",
            " 7   Kerugian Capital       9045 non-null   float64\n",
            " 8   Jam per Minggu         9045 non-null   float64\n",
            "dtypes: float64(3), int64(2), object(4)\n",
            "memory usage: 706.6+ KB\n"
          ],
          "name": "stdout"
        }
      ]
    },
    {
      "cell_type": "code",
      "metadata": {
        "id": "PKhs5b9Eqznz",
        "outputId": "b015a969-791a-4845-f1e8-63ee0697fe37",
        "colab": {
          "base_uri": "https://localhost:8080/",
          "height": 473
        }
      },
      "source": [
        "df_test['Kelas Pekerja'] = np.where((df_test['Kelas Pekerja'] == \"Tanpa di Bayar\") | (df_test['Kelas Pekerja'] == \"Tidak Pernah Bekerja\"), 0, 1)\n",
        "\n",
        "df_test = pd.get_dummies(df_test, columns=['Status Perkawinan','Pekerjaan', 'Jenis Kelamin'])\n",
        "df_test"
      ],
      "execution_count": 65,
      "outputs": [
        {
          "output_type": "execute_result",
          "data": {
            "text/html": [
              "<div>\n",
              "<style scoped>\n",
              "    .dataframe tbody tr th:only-of-type {\n",
              "        vertical-align: middle;\n",
              "    }\n",
              "\n",
              "    .dataframe tbody tr th {\n",
              "        vertical-align: top;\n",
              "    }\n",
              "\n",
              "    .dataframe thead th {\n",
              "        text-align: right;\n",
              "    }\n",
              "</style>\n",
              "<table border=\"1\" class=\"dataframe\">\n",
              "  <thead>\n",
              "    <tr style=\"text-align: right;\">\n",
              "      <th></th>\n",
              "      <th>Umur</th>\n",
              "      <th>Kelas Pekerja</th>\n",
              "      <th>Jmlh Tahun Pendidikan</th>\n",
              "      <th>Keuntungan Kapital</th>\n",
              "      <th>Kerugian Capital</th>\n",
              "      <th>Jam per Minggu</th>\n",
              "      <th>Status Perkawinan_Belum Pernah Menikah</th>\n",
              "      <th>Status Perkawinan_Berpisah</th>\n",
              "      <th>Status Perkawinan_Cerai</th>\n",
              "      <th>Status Perkawinan_Janda</th>\n",
              "      <th>Status Perkawinan_Menikah</th>\n",
              "      <th>Status Perkawinan_Menikah LDR</th>\n",
              "      <th>Pekerjaan_Asisten Rumah Tangga</th>\n",
              "      <th>Pekerjaan_Ekesekutif Managerial</th>\n",
              "      <th>Pekerjaan_Mesin Inspeksi</th>\n",
              "      <th>Pekerjaan_Pembersih</th>\n",
              "      <th>Pekerjaan_Pemuka Agama</th>\n",
              "      <th>Pekerjaan_Penjaga</th>\n",
              "      <th>Pekerjaan_Perbaikan Kerajinan</th>\n",
              "      <th>Pekerjaan_Petani</th>\n",
              "      <th>Pekerjaan_Sales</th>\n",
              "      <th>Pekerjaan_Servis Lainnya</th>\n",
              "      <th>Pekerjaan_Spesialis</th>\n",
              "      <th>Pekerjaan_Supir</th>\n",
              "      <th>Pekerjaan_Tech-support</th>\n",
              "      <th>Pekerjaan_Tentara</th>\n",
              "      <th>Jenis Kelamin_Laki2</th>\n",
              "      <th>Jenis Kelamin_Perempuan</th>\n",
              "    </tr>\n",
              "  </thead>\n",
              "  <tbody>\n",
              "    <tr>\n",
              "      <th>0</th>\n",
              "      <td>30</td>\n",
              "      <td>1</td>\n",
              "      <td>11</td>\n",
              "      <td>0.0</td>\n",
              "      <td>0.0</td>\n",
              "      <td>40.0</td>\n",
              "      <td>0</td>\n",
              "      <td>0</td>\n",
              "      <td>1</td>\n",
              "      <td>0</td>\n",
              "      <td>0</td>\n",
              "      <td>0</td>\n",
              "      <td>0</td>\n",
              "      <td>0</td>\n",
              "      <td>0</td>\n",
              "      <td>0</td>\n",
              "      <td>1</td>\n",
              "      <td>0</td>\n",
              "      <td>0</td>\n",
              "      <td>0</td>\n",
              "      <td>0</td>\n",
              "      <td>0</td>\n",
              "      <td>0</td>\n",
              "      <td>0</td>\n",
              "      <td>0</td>\n",
              "      <td>0</td>\n",
              "      <td>0</td>\n",
              "      <td>1</td>\n",
              "    </tr>\n",
              "    <tr>\n",
              "      <th>1</th>\n",
              "      <td>28</td>\n",
              "      <td>1</td>\n",
              "      <td>9</td>\n",
              "      <td>0.0</td>\n",
              "      <td>0.0</td>\n",
              "      <td>50.0</td>\n",
              "      <td>0</td>\n",
              "      <td>0</td>\n",
              "      <td>0</td>\n",
              "      <td>0</td>\n",
              "      <td>1</td>\n",
              "      <td>0</td>\n",
              "      <td>0</td>\n",
              "      <td>0</td>\n",
              "      <td>1</td>\n",
              "      <td>0</td>\n",
              "      <td>0</td>\n",
              "      <td>0</td>\n",
              "      <td>0</td>\n",
              "      <td>0</td>\n",
              "      <td>0</td>\n",
              "      <td>0</td>\n",
              "      <td>0</td>\n",
              "      <td>0</td>\n",
              "      <td>0</td>\n",
              "      <td>0</td>\n",
              "      <td>1</td>\n",
              "      <td>0</td>\n",
              "    </tr>\n",
              "    <tr>\n",
              "      <th>2</th>\n",
              "      <td>34</td>\n",
              "      <td>1</td>\n",
              "      <td>10</td>\n",
              "      <td>0.0</td>\n",
              "      <td>0.0</td>\n",
              "      <td>40.0</td>\n",
              "      <td>0</td>\n",
              "      <td>0</td>\n",
              "      <td>0</td>\n",
              "      <td>0</td>\n",
              "      <td>1</td>\n",
              "      <td>0</td>\n",
              "      <td>0</td>\n",
              "      <td>0</td>\n",
              "      <td>0</td>\n",
              "      <td>0</td>\n",
              "      <td>1</td>\n",
              "      <td>0</td>\n",
              "      <td>0</td>\n",
              "      <td>0</td>\n",
              "      <td>0</td>\n",
              "      <td>0</td>\n",
              "      <td>0</td>\n",
              "      <td>0</td>\n",
              "      <td>0</td>\n",
              "      <td>0</td>\n",
              "      <td>1</td>\n",
              "      <td>0</td>\n",
              "    </tr>\n",
              "    <tr>\n",
              "      <th>3</th>\n",
              "      <td>51</td>\n",
              "      <td>1</td>\n",
              "      <td>10</td>\n",
              "      <td>0.0</td>\n",
              "      <td>28028000.0</td>\n",
              "      <td>40.0</td>\n",
              "      <td>0</td>\n",
              "      <td>0</td>\n",
              "      <td>0</td>\n",
              "      <td>0</td>\n",
              "      <td>1</td>\n",
              "      <td>0</td>\n",
              "      <td>0</td>\n",
              "      <td>1</td>\n",
              "      <td>0</td>\n",
              "      <td>0</td>\n",
              "      <td>0</td>\n",
              "      <td>0</td>\n",
              "      <td>0</td>\n",
              "      <td>0</td>\n",
              "      <td>0</td>\n",
              "      <td>0</td>\n",
              "      <td>0</td>\n",
              "      <td>0</td>\n",
              "      <td>0</td>\n",
              "      <td>0</td>\n",
              "      <td>1</td>\n",
              "      <td>0</td>\n",
              "    </tr>\n",
              "    <tr>\n",
              "      <th>5</th>\n",
              "      <td>51</td>\n",
              "      <td>1</td>\n",
              "      <td>10</td>\n",
              "      <td>102172000.0</td>\n",
              "      <td>0.0</td>\n",
              "      <td>40.0</td>\n",
              "      <td>0</td>\n",
              "      <td>0</td>\n",
              "      <td>0</td>\n",
              "      <td>0</td>\n",
              "      <td>1</td>\n",
              "      <td>0</td>\n",
              "      <td>0</td>\n",
              "      <td>0</td>\n",
              "      <td>0</td>\n",
              "      <td>0</td>\n",
              "      <td>1</td>\n",
              "      <td>0</td>\n",
              "      <td>0</td>\n",
              "      <td>0</td>\n",
              "      <td>0</td>\n",
              "      <td>0</td>\n",
              "      <td>0</td>\n",
              "      <td>0</td>\n",
              "      <td>0</td>\n",
              "      <td>0</td>\n",
              "      <td>1</td>\n",
              "      <td>0</td>\n",
              "    </tr>\n",
              "    <tr>\n",
              "      <th>...</th>\n",
              "      <td>...</td>\n",
              "      <td>...</td>\n",
              "      <td>...</td>\n",
              "      <td>...</td>\n",
              "      <td>...</td>\n",
              "      <td>...</td>\n",
              "      <td>...</td>\n",
              "      <td>...</td>\n",
              "      <td>...</td>\n",
              "      <td>...</td>\n",
              "      <td>...</td>\n",
              "      <td>...</td>\n",
              "      <td>...</td>\n",
              "      <td>...</td>\n",
              "      <td>...</td>\n",
              "      <td>...</td>\n",
              "      <td>...</td>\n",
              "      <td>...</td>\n",
              "      <td>...</td>\n",
              "      <td>...</td>\n",
              "      <td>...</td>\n",
              "      <td>...</td>\n",
              "      <td>...</td>\n",
              "      <td>...</td>\n",
              "      <td>...</td>\n",
              "      <td>...</td>\n",
              "      <td>...</td>\n",
              "      <td>...</td>\n",
              "    </tr>\n",
              "    <tr>\n",
              "      <th>9594</th>\n",
              "      <td>58</td>\n",
              "      <td>1</td>\n",
              "      <td>5</td>\n",
              "      <td>0.0</td>\n",
              "      <td>0.0</td>\n",
              "      <td>40.0</td>\n",
              "      <td>0</td>\n",
              "      <td>0</td>\n",
              "      <td>0</td>\n",
              "      <td>0</td>\n",
              "      <td>1</td>\n",
              "      <td>0</td>\n",
              "      <td>0</td>\n",
              "      <td>0</td>\n",
              "      <td>0</td>\n",
              "      <td>0</td>\n",
              "      <td>0</td>\n",
              "      <td>0</td>\n",
              "      <td>0</td>\n",
              "      <td>1</td>\n",
              "      <td>0</td>\n",
              "      <td>0</td>\n",
              "      <td>0</td>\n",
              "      <td>0</td>\n",
              "      <td>0</td>\n",
              "      <td>0</td>\n",
              "      <td>1</td>\n",
              "      <td>0</td>\n",
              "    </tr>\n",
              "    <tr>\n",
              "      <th>9595</th>\n",
              "      <td>45</td>\n",
              "      <td>1</td>\n",
              "      <td>7</td>\n",
              "      <td>0.0</td>\n",
              "      <td>0.0</td>\n",
              "      <td>50.0</td>\n",
              "      <td>0</td>\n",
              "      <td>0</td>\n",
              "      <td>0</td>\n",
              "      <td>0</td>\n",
              "      <td>1</td>\n",
              "      <td>0</td>\n",
              "      <td>0</td>\n",
              "      <td>0</td>\n",
              "      <td>0</td>\n",
              "      <td>0</td>\n",
              "      <td>0</td>\n",
              "      <td>0</td>\n",
              "      <td>1</td>\n",
              "      <td>0</td>\n",
              "      <td>0</td>\n",
              "      <td>0</td>\n",
              "      <td>0</td>\n",
              "      <td>0</td>\n",
              "      <td>0</td>\n",
              "      <td>0</td>\n",
              "      <td>1</td>\n",
              "      <td>0</td>\n",
              "    </tr>\n",
              "    <tr>\n",
              "      <th>9596</th>\n",
              "      <td>20</td>\n",
              "      <td>1</td>\n",
              "      <td>10</td>\n",
              "      <td>0.0</td>\n",
              "      <td>0.0</td>\n",
              "      <td>32.0</td>\n",
              "      <td>1</td>\n",
              "      <td>0</td>\n",
              "      <td>0</td>\n",
              "      <td>0</td>\n",
              "      <td>0</td>\n",
              "      <td>0</td>\n",
              "      <td>0</td>\n",
              "      <td>0</td>\n",
              "      <td>0</td>\n",
              "      <td>0</td>\n",
              "      <td>0</td>\n",
              "      <td>0</td>\n",
              "      <td>0</td>\n",
              "      <td>0</td>\n",
              "      <td>0</td>\n",
              "      <td>1</td>\n",
              "      <td>0</td>\n",
              "      <td>0</td>\n",
              "      <td>0</td>\n",
              "      <td>0</td>\n",
              "      <td>0</td>\n",
              "      <td>1</td>\n",
              "    </tr>\n",
              "    <tr>\n",
              "      <th>9597</th>\n",
              "      <td>41</td>\n",
              "      <td>1</td>\n",
              "      <td>9</td>\n",
              "      <td>0.0</td>\n",
              "      <td>0.0</td>\n",
              "      <td>40.0</td>\n",
              "      <td>0</td>\n",
              "      <td>1</td>\n",
              "      <td>0</td>\n",
              "      <td>0</td>\n",
              "      <td>0</td>\n",
              "      <td>0</td>\n",
              "      <td>0</td>\n",
              "      <td>0</td>\n",
              "      <td>0</td>\n",
              "      <td>0</td>\n",
              "      <td>1</td>\n",
              "      <td>0</td>\n",
              "      <td>0</td>\n",
              "      <td>0</td>\n",
              "      <td>0</td>\n",
              "      <td>0</td>\n",
              "      <td>0</td>\n",
              "      <td>0</td>\n",
              "      <td>0</td>\n",
              "      <td>0</td>\n",
              "      <td>0</td>\n",
              "      <td>1</td>\n",
              "    </tr>\n",
              "    <tr>\n",
              "      <th>9598</th>\n",
              "      <td>34</td>\n",
              "      <td>1</td>\n",
              "      <td>9</td>\n",
              "      <td>0.0</td>\n",
              "      <td>0.0</td>\n",
              "      <td>80.0</td>\n",
              "      <td>0</td>\n",
              "      <td>0</td>\n",
              "      <td>0</td>\n",
              "      <td>0</td>\n",
              "      <td>1</td>\n",
              "      <td>0</td>\n",
              "      <td>0</td>\n",
              "      <td>0</td>\n",
              "      <td>0</td>\n",
              "      <td>0</td>\n",
              "      <td>0</td>\n",
              "      <td>0</td>\n",
              "      <td>0</td>\n",
              "      <td>1</td>\n",
              "      <td>0</td>\n",
              "      <td>0</td>\n",
              "      <td>0</td>\n",
              "      <td>0</td>\n",
              "      <td>0</td>\n",
              "      <td>0</td>\n",
              "      <td>1</td>\n",
              "      <td>0</td>\n",
              "    </tr>\n",
              "  </tbody>\n",
              "</table>\n",
              "<p>9045 rows × 28 columns</p>\n",
              "</div>"
            ],
            "text/plain": [
              "      Umur  Kelas Pekerja  ...  Jenis Kelamin_Laki2  Jenis Kelamin_Perempuan\n",
              "0       30              1  ...                    0                        1\n",
              "1       28              1  ...                    1                        0\n",
              "2       34              1  ...                    1                        0\n",
              "3       51              1  ...                    1                        0\n",
              "5       51              1  ...                    1                        0\n",
              "...    ...            ...  ...                  ...                      ...\n",
              "9594    58              1  ...                    1                        0\n",
              "9595    45              1  ...                    1                        0\n",
              "9596    20              1  ...                    0                        1\n",
              "9597    41              1  ...                    0                        1\n",
              "9598    34              1  ...                    1                        0\n",
              "\n",
              "[9045 rows x 28 columns]"
            ]
          },
          "metadata": {
            "tags": []
          },
          "execution_count": 65
        }
      ]
    },
    {
      "cell_type": "code",
      "metadata": {
        "id": "78JI6qwLq_HE",
        "outputId": "93966a13-ddd1-4822-d190-b78dbf272ea0",
        "colab": {
          "base_uri": "https://localhost:8080/",
          "height": 238
        }
      },
      "source": [
        "data_test = sc.transform(df_test)\n",
        "data_test"
      ],
      "execution_count": 67,
      "outputs": [
        {
          "output_type": "execute_result",
          "data": {
            "text/plain": [
              "array([[-0.6535377 ,  0.01919885,  0.3356647 , ..., -0.01717134,\n",
              "        -1.44789715,  1.44789715],\n",
              "       [-0.80544251,  0.01919885, -0.4416671 , ..., -0.01717134,\n",
              "         0.69065679, -0.69065679],\n",
              "       [-0.34972808,  0.01919885, -0.0530012 , ..., -0.01717134,\n",
              "         0.69065679, -0.69065679],\n",
              "       ...,\n",
              "       [-1.41306174,  0.01919885, -0.0530012 , ..., -0.01717134,\n",
              "        -1.44789715,  1.44789715],\n",
              "       [ 0.18193875,  0.01919885, -0.4416671 , ..., -0.01717134,\n",
              "        -1.44789715,  1.44789715],\n",
              "       [-0.34972808,  0.01919885, -0.4416671 , ..., -0.01717134,\n",
              "         0.69065679, -0.69065679]])"
            ]
          },
          "metadata": {
            "tags": []
          },
          "execution_count": 67
        }
      ]
    },
    {
      "cell_type": "markdown",
      "metadata": {
        "id": "AEdZbs-krUeP"
      },
      "source": [
        "##Predict"
      ]
    },
    {
      "cell_type": "code",
      "metadata": {
        "id": "w01Dgg18rXXI",
        "outputId": "e64f70c5-39c6-496f-ae08-7f3e63acd4fb",
        "colab": {
          "base_uri": "https://localhost:8080/",
          "height": 34
        }
      },
      "source": [
        "#Random Forest\n",
        "pred_rf = rf.predict(data_test)\n",
        "pred_rf"
      ],
      "execution_count": 70,
      "outputs": [
        {
          "output_type": "execute_result",
          "data": {
            "text/plain": [
              "array([0, 1, 1, ..., 0, 0, 0])"
            ]
          },
          "metadata": {
            "tags": []
          },
          "execution_count": 70
        }
      ]
    },
    {
      "cell_type": "code",
      "metadata": {
        "id": "le_BGoDYr8o1",
        "outputId": "ebbd46f5-f7b7-4eb6-8678-eefd5cec9cca",
        "colab": {
          "base_uri": "https://localhost:8080/",
          "height": 34
        }
      },
      "source": [
        "#Decission Tree\n",
        "pred_dct = dtree.predict(data_test)\n",
        "pred_dct"
      ],
      "execution_count": 72,
      "outputs": [
        {
          "output_type": "execute_result",
          "data": {
            "text/plain": [
              "array([0, 0, 1, ..., 0, 0, 1])"
            ]
          },
          "metadata": {
            "tags": []
          },
          "execution_count": 72
        }
      ]
    },
    {
      "cell_type": "code",
      "metadata": {
        "id": "VywL5p6IsJ4-",
        "outputId": "4fb4c8f2-c02d-4342-fed5-f470ecc9049e",
        "colab": {
          "base_uri": "https://localhost:8080/",
          "height": 34
        }
      },
      "source": [
        "#Logistic Regression\n",
        "pred_lr = logreg.predict(data_test)\n",
        "pred_lr"
      ],
      "execution_count": 74,
      "outputs": [
        {
          "output_type": "execute_result",
          "data": {
            "text/plain": [
              "array([0, 0, 0, ..., 0, 0, 0])"
            ]
          },
          "metadata": {
            "tags": []
          },
          "execution_count": 74
        }
      ]
    },
    {
      "cell_type": "code",
      "metadata": {
        "id": "LxPSywVGsS8b",
        "outputId": "8526b18e-1fdc-4ced-ec11-389a90882123",
        "colab": {
          "base_uri": "https://localhost:8080/",
          "height": 34
        }
      },
      "source": [
        "#SVM\n",
        "pred_svm = clf.predict(data_test)\n",
        "pred_svm"
      ],
      "execution_count": 75,
      "outputs": [
        {
          "output_type": "execute_result",
          "data": {
            "text/plain": [
              "array([0, 0, 0, ..., 0, 0, 0])"
            ]
          },
          "metadata": {
            "tags": []
          },
          "execution_count": 75
        }
      ]
    },
    {
      "cell_type": "code",
      "metadata": {
        "id": "vIRNA93lsaK6",
        "outputId": "22edbf63-f2fa-4ed4-f1d9-ff230e39e4ca",
        "colab": {
          "base_uri": "https://localhost:8080/",
          "height": 34
        }
      },
      "source": [
        "#KNN\n",
        "pred_knn = knn.predict(data_test)\n",
        "pred_knn"
      ],
      "execution_count": 76,
      "outputs": [
        {
          "output_type": "execute_result",
          "data": {
            "text/plain": [
              "array([0, 0, 0, ..., 0, 0, 0])"
            ]
          },
          "metadata": {
            "tags": []
          },
          "execution_count": 76
        }
      ]
    }
  ]
}